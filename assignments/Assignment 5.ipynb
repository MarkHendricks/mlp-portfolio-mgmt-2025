{
 "cells": [
  {
   "cell_type": "markdown",
   "metadata": {},
   "source": [
    "# 5. Assignment\n",
    "\n",
    "## Portfolio Management\n",
    "### MLP Training\n",
    "\n",
    "#### January 2025\n",
    "\n",
    "Questions?\n",
    "* Contact: Mark Hendricks\n",
    "* hendricks@uchicago.edu"
   ]
  },
  {
   "cell_type": "markdown",
   "metadata": {},
   "source": [
    "***"
   ]
  },
  {
   "cell_type": "markdown",
   "metadata": {},
   "source": [
    "# 1. The Factors"
   ]
  },
  {
   "cell_type": "markdown",
   "metadata": {},
   "source": [
    "### 1. \n",
    "\n",
    "Describe how each of the factors (other than MKT) is measured. Is the factor portfolio...\n",
    "* long-only\n",
    "* long-short\n",
    "* value-weighted\n",
    "* equally-weighted"
   ]
  },
  {
   "cell_type": "markdown",
   "metadata": {},
   "source": [
    "### 2. \n",
    "\n",
    "Use the data found in `factor_pricing_data.xlsx`.\n",
    "\n",
    "* FACTORS: Monthly excess return data for the overall equity market, $\\tilde{r}^{\\text{MKT}}$.\n",
    "* The column header to the market factor is `MKT` rather than `MKT-RF`, but it is indeed already in excess return form.\n",
    "* The sheet also contains data on five additional factors.\n",
    "* All factor data is already provided as excess returns"
   ]
  },
  {
   "cell_type": "markdown",
   "metadata": {},
   "source": [
    "Show the following for each factor:\n",
    "* mean\n",
    "* volatility\n",
    "* Sharpe"
   ]
  },
  {
   "cell_type": "markdown",
   "metadata": {},
   "source": [
    "### 3. \n",
    "\n",
    "Report the correlation matrix across the six factors."
   ]
  },
  {
   "cell_type": "markdown",
   "metadata": {},
   "source": [
    "***"
   ]
  },
  {
   "cell_type": "markdown",
   "metadata": {},
   "source": [
    "# 2. Testing Factor-Pricing Models\n",
    "\n",
    "Consider the following factor models:\n",
    "* CAPM: MKT\n",
    "* Fama-French 3F: MKT, SMB, HML\n",
    "* 4-Factor: MKT, HML, RMW, UMD"
   ]
  },
  {
   "cell_type": "markdown",
   "metadata": {},
   "source": [
    "For instance, for the 4-Factor model is..."
   ]
  },
  {
   "cell_type": "markdown",
   "metadata": {},
   "source": [
    "![](../refs/LFP-4-factors.png)"
   ]
  },
  {
   "cell_type": "markdown",
   "metadata": {},
   "source": [
    "We will test these models with the time-series regressions. Namely, for each asset i, estimate the following regression to test the 4-Factor model:"
   ]
  },
  {
   "cell_type": "markdown",
   "metadata": {},
   "source": [
    "![](../refs/LFD-4-factors.png)"
   ]
  },
  {
   "cell_type": "markdown",
   "metadata": {},
   "source": [
    "Data\n",
    "* PORTFOLIOS: Monthly excess return data on 49 equity portfolios sorted by their industry. Denote these as $\\tilde{r}^i$ , for $n = 1, . . . , 49.$\n",
    "\n",
    "* You do NOT need the risk-free rate data. It is provided only for completeness. The other two tabs are already in terms of excess returns."
   ]
  },
  {
   "cell_type": "markdown",
   "metadata": {},
   "source": [
    "### 1. Test the CAPM\n",
    "\n",
    "* For each regression, report the estimated alpha and r-squared.\n",
    "* Calculate the mean of the absolute value of the estimated alphas.\n",
    "* If the pricing model worked, should these alpha estimates be large or small? Why?\n",
    "\n",
    "\n",
    "### 2. Test the 4-Factor Model.\n",
    "   \n",
    "Report the same statistics as above, in testing the CAPM."
   ]
  },
  {
   "cell_type": "markdown",
   "metadata": {},
   "source": [
    "***"
   ]
  }
 ],
 "metadata": {
  "kernelspec": {
   "display_name": "Python 3 (ipykernel)",
   "language": "python",
   "name": "python3"
  },
  "language_info": {
   "codemirror_mode": {
    "name": "ipython",
    "version": 3
   },
   "file_extension": ".py",
   "mimetype": "text/x-python",
   "name": "python",
   "nbconvert_exporter": "python",
   "pygments_lexer": "ipython3",
   "version": "3.9.6"
  }
 },
 "nbformat": 4,
 "nbformat_minor": 4
}
