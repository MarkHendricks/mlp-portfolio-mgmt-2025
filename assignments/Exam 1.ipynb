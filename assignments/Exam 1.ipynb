{
 "cells": [
  {
   "cell_type": "markdown",
   "id": "a97c4251",
   "metadata": {},
   "source": [
    "# Exam 1\n",
    "\n",
    "## Portfolio Management\n",
    "### MLP Training\n",
    "\n",
    "#### January 2025\n",
    "\n",
    "Questions?\n",
    "* Contact: Mark Hendricks\n",
    "* hendricks@uchicago.edu"
   ]
  },
  {
   "cell_type": "markdown",
   "id": "cbb624b4",
   "metadata": {},
   "source": [
    "***"
   ]
  },
  {
   "cell_type": "markdown",
   "id": "5a5f8f1b",
   "metadata": {},
   "source": [
    "## Data"
   ]
  },
  {
   "cell_type": "markdown",
   "id": "88e17896",
   "metadata": {},
   "source": [
    "All the analysis below applies to the data set,\n",
    "* `data/exam_1_data.xlsx`\n",
    "* The file has **weekly** returns for the largest 10 stocks and SPY\n",
    "* For annualization, use 52 periods per year."
   ]
  },
  {
   "cell_type": "markdown",
   "id": "98f8af63",
   "metadata": {},
   "source": [
    "***"
   ]
  },
  {
   "cell_type": "markdown",
   "id": "d1614003",
   "metadata": {},
   "source": [
    "# 1. Risk Statistics and Decomposition"
   ]
  },
  {
   "cell_type": "markdown",
   "id": "463982b4",
   "metadata": {},
   "source": [
    "### 1.1."
   ]
  },
  {
   "cell_type": "markdown",
   "id": "92ac5247",
   "metadata": {},
   "source": [
    "Display a table with the following metrics for each of the return series.\n",
    "\n",
    "* mean (annualized)\n",
    "* volatility (annualized)\n",
    "* Sharpe ratio (annualized)\n",
    "* skewness\n",
    "* kurtosis\n",
    "* maximum drawdown\n",
    "\n",
    "#### Note\n",
    "We  have total returns, and Sharpe ratio is technically defined for excess returns. Don't worry about the difference.\n",
    "\n",
    "#### Note\n",
    "You might consider importing two functions from `cmds/portfolio`: `performanceMetrics` and `maximumDrawdown`. No need to use these, and you may well have implemented these calculations with your own (better) code in `Assignment 1`."
   ]
  },
  {
   "cell_type": "markdown",
   "id": "36d2edc7",
   "metadata": {},
   "source": [
    "### 1.2."
   ]
  },
  {
   "cell_type": "markdown",
   "id": "f6d20835",
   "metadata": {},
   "source": [
    "As a standalone investment, which is most attractive? And least? Justify your answer."
   ]
  },
  {
   "cell_type": "markdown",
   "id": "2caffeb4",
   "metadata": {},
   "source": [
    "### 1.3.\n",
    "\n",
    "For each investment, estimate a regression against `SPY`. Report the \n",
    "* alpha (annualized as a mean)\n",
    "* beta\n",
    "* info ratio\n",
    "* r-squared\n",
    "\n",
    "Based on this table, which investment seems most attractive relative to holding `SPY`?\n",
    "\n",
    "#### Note\n",
    "You might consider importing two functions from `cmds/portfolio`: `get_ols_metrics`. No need to use it, and you may well have implemented these calculations with your own (better) code in `Assignment 2`."
   ]
  },
  {
   "cell_type": "markdown",
   "id": "406e5a89",
   "metadata": {},
   "source": [
    "### 1.4.\n",
    "\n",
    "Suppose you expect `AAPL` to do well relatively, but you want to hedge broad market risk (`SPY`) and A.I. risk (`NVDA`). \n",
    "\n",
    "For every $100 in `AAPL`, what should you hold in `SPY` and `NVDA`?"
   ]
  },
  {
   "cell_type": "markdown",
   "id": "53512a52",
   "metadata": {},
   "source": [
    "### 1.5.\n",
    "\n",
    "Without estimating anything new, consider the idea of replicating `AAPL` using `SPY`, and `NVDA`. Which regression statistic best indicates if your replication tracks the target well?"
   ]
  },
  {
   "cell_type": "markdown",
   "id": "db9c263f",
   "metadata": {},
   "source": [
    "***"
   ]
  },
  {
   "cell_type": "markdown",
   "id": "20993764",
   "metadata": {},
   "source": [
    "# 2. Portfolio Allocation"
   ]
  },
  {
   "cell_type": "markdown",
   "id": "3b9f44d6",
   "metadata": {},
   "source": [
    "### 2.1.\n",
    "\n",
    "Display the correlation matrix of the returns.\n",
    "\n",
    "* Based on this information, which investment do you anticipate will get extra weight in the portfolio, beyond what it would merit for its mean return?\n",
    "\n",
    "* Report the maximally correlated assets and the minimally correlated assets."
   ]
  },
  {
   "cell_type": "markdown",
   "id": "a10c91c6",
   "metadata": {},
   "source": [
    "### 2.2.\n",
    "\n",
    "Calculate the weights of the mean-variance optimized portfolio, also called the tangency portfolio.\n",
    "\n",
    "* Display a table indexed by each investment, with the optimal weights in one column and the Sharpe ratios in another column.\n",
    "\n",
    "* Do the investments with the best Sharpe ratios tend to get the biggest weights?\n",
    "\n",
    "#### Note:\n",
    "To estimate the optimal weights, consider using the provided function below."
   ]
  },
  {
   "cell_type": "code",
   "execution_count": 11,
   "id": "b9136a81",
   "metadata": {},
   "outputs": [],
   "source": [
    "def optimized_weights(returns,dropna=True,scale_cov=1):\n",
    "    if dropna:\n",
    "        returns = returns.dropna()\n",
    "\n",
    "    covmat_full = returns.cov()\n",
    "    covmat_diag = np.diag(np.diag(covmat_full))\n",
    "    covmat = scale_cov * covmat_full + (1-scale_cov) * covmat_diag\n",
    "\n",
    "    weights = np.linalg.solve(covmat,returns.mean())\n",
    "    weights = weights / weights.sum()\n",
    "\n",
    "    if returns.mean() @ weights < 0:\n",
    "        weights = -weights\n",
    "\n",
    "    return pd.DataFrame(weights, index=returns.columns)"
   ]
  },
  {
   "cell_type": "markdown",
   "id": "c25d9c7d",
   "metadata": {},
   "source": [
    "### 2.3.\n",
    "\n",
    "Report the following performance statistics of the portfolio achieved with the optimized weights calculated above.\n",
    "* mean\n",
    "* volatility\n",
    "* Sharpe\n",
    "\n",
    "(Annualize all three statistics.)"
   ]
  },
  {
   "cell_type": "markdown",
   "id": "6e5ed99b",
   "metadata": {},
   "source": [
    "### 2.4.\n",
    "\n",
    "Briefly explain why the optimized portfolio is unrealistic."
   ]
  },
  {
   "cell_type": "markdown",
   "id": "871a4ebf",
   "metadata": {},
   "source": [
    "### 2.5.\n",
    "\n",
    "Briefly explain what the optimizer likes about its biggest...\n",
    "* long position.\n",
    "* short position."
   ]
  },
  {
   "cell_type": "markdown",
   "id": "96d3dddf",
   "metadata": {},
   "source": [
    "### 2.6. Extra, not graded.\n",
    "\n",
    "Try dropping the asset which had the biggest short position from the investment set. Re-run the optimization. What do you think of these new weights compared to the original optimized weights?\n",
    "\n",
    "What is going on?"
   ]
  },
  {
   "cell_type": "markdown",
   "id": "ee708089",
   "metadata": {},
   "source": [
    "****"
   ]
  }
 ],
 "metadata": {
  "hide_input": false,
  "kernelspec": {
   "display_name": "Python 3 (ipykernel)",
   "language": "python",
   "name": "python3"
  },
  "language_info": {
   "codemirror_mode": {
    "name": "ipython",
    "version": 3
   },
   "file_extension": ".py",
   "mimetype": "text/x-python",
   "name": "python",
   "nbconvert_exporter": "python",
   "pygments_lexer": "ipython3",
   "version": "3.9.6"
  }
 },
 "nbformat": 4,
 "nbformat_minor": 5
}
