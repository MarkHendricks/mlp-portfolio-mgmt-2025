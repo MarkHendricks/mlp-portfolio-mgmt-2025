{
 "cells": [
  {
   "cell_type": "markdown",
   "id": "a97c4251",
   "metadata": {},
   "source": [
    "# Exam 2\n",
    "\n",
    "## Portfolio Management\n",
    "### MLP Training\n",
    "\n",
    "#### January 2025\n",
    "\n",
    "Questions?\n",
    "* Contact: Mark Hendricks\n",
    "* hendricks@uchicago.edu"
   ]
  },
  {
   "cell_type": "markdown",
   "id": "cbb624b4",
   "metadata": {},
   "source": [
    "***"
   ]
  },
  {
   "cell_type": "markdown",
   "id": "5a5f8f1b",
   "metadata": {},
   "source": [
    "## Data"
   ]
  },
  {
   "cell_type": "markdown",
   "id": "88e17896",
   "metadata": {},
   "source": [
    "All the analysis below applies to the data set,\n",
    "* `data/exam_2_data.xlsx`\n",
    "* Section `1` uses the sheets `risk-free rates` and `exchange rates`.\n",
    "* Section `2` uses the sheet `excess returns`"
   ]
  },
  {
   "cell_type": "markdown",
   "id": "98f8af63",
   "metadata": {},
   "source": [
    "***"
   ]
  },
  {
   "cell_type": "markdown",
   "id": "eee88450",
   "metadata": {},
   "source": [
    "# 1. FX Carry "
   ]
  },
  {
   "cell_type": "markdown",
   "id": "b3e8992e",
   "metadata": {},
   "source": [
    "### Notation\n",
    "(Hidden math display commands)\n",
    "\n",
    "$$\\newcommand{\\frn}{\\text{MXN}}$$\n",
    "$$\\newcommand{\\frnrate}{\\text{MXSTR}}$$\n",
    "$$\\newcommand{\\FXspot}{S}$$\n",
    "$$\\newcommand{\\fxspot}{\\texttt{s}}$$\n",
    "$$\\newcommand{\\rflogusd}{\\texttt{r}^{\\text{USD}}}$$\n",
    "$$\\newcommand{\\rflogfrn}{\\texttt{r}^{\\frn}}$$\n",
    "\n",
    "$$\\newcommand{\\wintt}{t,t+1}$$"
   ]
  },
  {
   "cell_type": "markdown",
   "id": "85d39146",
   "metadata": {},
   "source": [
    "We examine FX carry for trading the Mexican peso $\\frn$.\n",
    "* Find the exchange rate data in the sheet `exchange rates`. As before, these are spot FX prices quoted as USD per $\\frn$.\n",
    "* The risk-free rates for all currencies are reported in the sheet `risk-free rates`.\n",
    "* The data is provided such that any row’s date, $t$, is reporting $S_t$ and $r^f_{t,t+1}$. That is, both of these values are known as of $t$, the date for which the row is date-stamped.\n",
    "\n",
    "Assume there are `260` (daily) observations per year. Use this for the purposes of annualizing certain statistics below.\n",
    "\n",
    "#### Note\n",
    "* You are given data on multiple currencies. You are **only using `MXN` in this problem**"
   ]
  },
  {
   "cell_type": "markdown",
   "id": "9effe57c",
   "metadata": {},
   "source": [
    "#### **<span style=\"color:red\">Load Data</span>**"
   ]
  },
  {
   "cell_type": "code",
   "execution_count": null,
   "id": "6144ebcc",
   "metadata": {},
   "outputs": [],
   "source": [
    "import numpy as np\n",
    "import pandas as pd"
   ]
  },
  {
   "cell_type": "code",
   "execution_count": 3,
   "id": "f5b38a2a",
   "metadata": {},
   "outputs": [],
   "source": [
    "DATAFILE = f'../data/exam_2_data.xlsx'\n",
    "\n",
    "SHEET = 'exchange rates'\n",
    "fx = pd.read_excel(DATAFILE, sheet_name=SHEET).set_index('date')\n",
    "\n",
    "SHEET = 'risk-free rates'\n",
    "rf = pd.read_excel(DATAFILE,sheet_name=SHEET).set_index('date')"
   ]
  },
  {
   "cell_type": "code",
   "execution_count": 4,
   "id": "48e7b632",
   "metadata": {},
   "outputs": [],
   "source": [
    "DAYS = 260\n",
    "CRNCY = 'MXN'"
   ]
  },
  {
   "cell_type": "code",
   "execution_count": 5,
   "id": "c622358a",
   "metadata": {},
   "outputs": [
    {
     "data": {
      "text/html": [
       "<div>\n",
       "<style scoped>\n",
       "    .dataframe tbody tr th:only-of-type {\n",
       "        vertical-align: middle;\n",
       "    }\n",
       "\n",
       "    .dataframe tbody tr th {\n",
       "        vertical-align: top;\n",
       "    }\n",
       "\n",
       "    .dataframe thead th {\n",
       "        text-align: right;\n",
       "    }\n",
       "</style>\n",
       "<table border=\"1\" class=\"dataframe\">\n",
       "  <thead>\n",
       "    <tr style=\"text-align: right;\">\n",
       "      <th></th>\n",
       "      <th>MXN</th>\n",
       "    </tr>\n",
       "    <tr>\n",
       "      <th>date</th>\n",
       "      <th></th>\n",
       "    </tr>\n",
       "  </thead>\n",
       "  <tbody>\n",
       "    <tr>\n",
       "      <th>2020-01-01</th>\n",
       "      <td>0.0529</td>\n",
       "    </tr>\n",
       "    <tr>\n",
       "      <th>2020-01-02</th>\n",
       "      <td>0.0531</td>\n",
       "    </tr>\n",
       "    <tr>\n",
       "      <th>2020-01-03</th>\n",
       "      <td>0.0529</td>\n",
       "    </tr>\n",
       "    <tr>\n",
       "      <th>2020-01-06</th>\n",
       "      <td>0.0531</td>\n",
       "    </tr>\n",
       "    <tr>\n",
       "      <th>2020-01-07</th>\n",
       "      <td>0.0529</td>\n",
       "    </tr>\n",
       "    <tr>\n",
       "      <th>...</th>\n",
       "      <td>...</td>\n",
       "    </tr>\n",
       "    <tr>\n",
       "      <th>2025-01-08</th>\n",
       "      <td>0.0490</td>\n",
       "    </tr>\n",
       "    <tr>\n",
       "      <th>2025-01-09</th>\n",
       "      <td>0.0488</td>\n",
       "    </tr>\n",
       "    <tr>\n",
       "      <th>2025-01-10</th>\n",
       "      <td>0.0483</td>\n",
       "    </tr>\n",
       "    <tr>\n",
       "      <th>2025-01-13</th>\n",
       "      <td>0.0484</td>\n",
       "    </tr>\n",
       "    <tr>\n",
       "      <th>2025-01-14</th>\n",
       "      <td>0.0488</td>\n",
       "    </tr>\n",
       "  </tbody>\n",
       "</table>\n",
       "<p>1315 rows × 1 columns</p>\n",
       "</div>"
      ],
      "text/plain": [
       "              MXN\n",
       "date             \n",
       "2020-01-01 0.0529\n",
       "2020-01-02 0.0531\n",
       "2020-01-03 0.0529\n",
       "2020-01-06 0.0531\n",
       "2020-01-07 0.0529\n",
       "...           ...\n",
       "2025-01-08 0.0490\n",
       "2025-01-09 0.0488\n",
       "2025-01-10 0.0483\n",
       "2025-01-13 0.0484\n",
       "2025-01-14 0.0488\n",
       "\n",
       "[1315 rows x 1 columns]"
      ]
     },
     "execution_count": 5,
     "metadata": {},
     "output_type": "execute_result"
    }
   ],
   "source": [
    "fx[[CRNCY]]"
   ]
  },
  {
   "cell_type": "code",
   "execution_count": 6,
   "id": "ad76a2aa",
   "metadata": {},
   "outputs": [
    {
     "data": {
      "text/html": [
       "<div>\n",
       "<style scoped>\n",
       "    .dataframe tbody tr th:only-of-type {\n",
       "        vertical-align: middle;\n",
       "    }\n",
       "\n",
       "    .dataframe tbody tr th {\n",
       "        vertical-align: top;\n",
       "    }\n",
       "\n",
       "    .dataframe thead th {\n",
       "        text-align: right;\n",
       "    }\n",
       "</style>\n",
       "<table border=\"1\" class=\"dataframe\">\n",
       "  <thead>\n",
       "    <tr style=\"text-align: right;\">\n",
       "      <th></th>\n",
       "      <th>USD</th>\n",
       "      <th>MXN</th>\n",
       "    </tr>\n",
       "    <tr>\n",
       "      <th>date</th>\n",
       "      <th></th>\n",
       "      <th></th>\n",
       "    </tr>\n",
       "  </thead>\n",
       "  <tbody>\n",
       "    <tr>\n",
       "      <th>2020-01-01</th>\n",
       "      <td>0.0001</td>\n",
       "      <td>0.0003</td>\n",
       "    </tr>\n",
       "    <tr>\n",
       "      <th>2020-01-02</th>\n",
       "      <td>0.0001</td>\n",
       "      <td>0.0003</td>\n",
       "    </tr>\n",
       "    <tr>\n",
       "      <th>2020-01-03</th>\n",
       "      <td>0.0001</td>\n",
       "      <td>0.0003</td>\n",
       "    </tr>\n",
       "    <tr>\n",
       "      <th>2020-01-06</th>\n",
       "      <td>0.0001</td>\n",
       "      <td>0.0003</td>\n",
       "    </tr>\n",
       "    <tr>\n",
       "      <th>2020-01-07</th>\n",
       "      <td>0.0001</td>\n",
       "      <td>0.0003</td>\n",
       "    </tr>\n",
       "    <tr>\n",
       "      <th>...</th>\n",
       "      <td>...</td>\n",
       "      <td>...</td>\n",
       "    </tr>\n",
       "    <tr>\n",
       "      <th>2025-01-08</th>\n",
       "      <td>0.0002</td>\n",
       "      <td>0.0004</td>\n",
       "    </tr>\n",
       "    <tr>\n",
       "      <th>2025-01-09</th>\n",
       "      <td>0.0002</td>\n",
       "      <td>0.0004</td>\n",
       "    </tr>\n",
       "    <tr>\n",
       "      <th>2025-01-10</th>\n",
       "      <td>0.0002</td>\n",
       "      <td>0.0004</td>\n",
       "    </tr>\n",
       "    <tr>\n",
       "      <th>2025-01-13</th>\n",
       "      <td>0.0002</td>\n",
       "      <td>0.0004</td>\n",
       "    </tr>\n",
       "    <tr>\n",
       "      <th>2025-01-14</th>\n",
       "      <td>0.0002</td>\n",
       "      <td>0.0004</td>\n",
       "    </tr>\n",
       "  </tbody>\n",
       "</table>\n",
       "<p>1315 rows × 2 columns</p>\n",
       "</div>"
      ],
      "text/plain": [
       "              USD    MXN\n",
       "date                    \n",
       "2020-01-01 0.0001 0.0003\n",
       "2020-01-02 0.0001 0.0003\n",
       "2020-01-03 0.0001 0.0003\n",
       "2020-01-06 0.0001 0.0003\n",
       "2020-01-07 0.0001 0.0003\n",
       "...           ...    ...\n",
       "2025-01-08 0.0002 0.0004\n",
       "2025-01-09 0.0002 0.0004\n",
       "2025-01-10 0.0002 0.0004\n",
       "2025-01-13 0.0002 0.0004\n",
       "2025-01-14 0.0002 0.0004\n",
       "\n",
       "[1315 rows x 2 columns]"
      ]
     },
     "execution_count": 6,
     "metadata": {},
     "output_type": "execute_result"
    }
   ],
   "source": [
    "rf[['USD',CRNCY]]"
   ]
  },
  {
   "cell_type": "markdown",
   "id": "fadef1b8",
   "metadata": {},
   "source": [
    "***"
   ]
  },
  {
   "cell_type": "markdown",
   "id": "1336f998",
   "metadata": {},
   "source": [
    "### 1.1.\n",
    "\n",
    "Transform the data to **log** FX prices and **log** interest rates.\n",
    "\n",
    "$$\\begin{align}\n",
    "\\fxspot_t & \\equiv \\ln\\left(\\FXspot_t\\right)\\\\[3pt]\n",
    "\\rflogusd_{\\wintt} & \\equiv \\ln\\left(1+r^{\\text{USD}}_{\\wintt}\\right)\\\\[3pt]\n",
    "\\rflogfrn_{\\wintt} & \\equiv \\ln\\left(1+r^{\\frn}_{\\wintt}\\right)\\\\\n",
    "\\end{align}$$\n",
    "\n",
    "\n",
    "Display the mean of all three series.\n",
    "* For the risk-free rate series, annualize the means."
   ]
  },
  {
   "cell_type": "markdown",
   "id": "0c63a6f6",
   "metadata": {},
   "source": [
    "### 1.2.\n",
    "\n",
    "Calculate the excess log return to a USD investor of holding $\\frn$. \n",
    "\n",
    "$$\\left(\\fxspot_{t+1}-\\fxspot_t\\right) + \\left(\\rflogfrn_{\\wintt} - \\rflogusd_{\\wintt}\\right)$$\n",
    "\n",
    "\n",
    "Report the following **annualized** stats...\n",
    "* Mean\n",
    "* Volatility\n",
    "* Sharpe ratio."
   ]
  },
  {
   "cell_type": "markdown",
   "id": "d52006bd",
   "metadata": {},
   "source": [
    "### 1.3.\n",
    "\n",
    "Plot...\n",
    "* the spread of the log risk-free rate (MXN) minus log risk-free rate (USD)\n",
    "* log exchange rate growth"
   ]
  },
  {
   "cell_type": "markdown",
   "id": "ced5d7ff",
   "metadata": {},
   "source": [
    "### 1.4.\n",
    "\n",
    "Over the sample, was it better to be long or short $\\frn$ relative to USD?\n",
    "* Did the interest spread help on average?\n",
    "* Did the USD appreciate or depreciate relative to $\\frn$ over the sample?\n",
    "\n",
    "Support your answer with the mean return coming from\n",
    "* interest rate spread\n",
    "* FX appreciation\n",
    "\n",
    "#### Note: \n",
    "Continue using the log data series calculated in `1.1`. These are additive components of the excess log returns coputed in `1.2`."
   ]
  },
  {
   "cell_type": "markdown",
   "id": "51bf8410",
   "metadata": {},
   "source": [
    "### 1.5.\n",
    "\n",
    "Forecast the growth of the FX rate using the interest-rate differential:\n",
    "\n",
    "$$\\fxspot_{t+1} - \\fxspot_t = \\alpha + \\beta\\left(\\rflogfrn_{\\wintt} - \\rflogusd_{\\wintt} \\right) + \\epsilon_{t+1}$$\n",
    "\n",
    "Report the following OLS stats, (no need to annualize or scale them.)\n",
    "* $\\alpha$\n",
    "* $\\beta$\n",
    "* r-squared\n",
    "\n",
    "Annualize your estimate of alpha."
   ]
  },
  {
   "cell_type": "markdown",
   "id": "680c5281",
   "metadata": {},
   "source": [
    "### 1.6.\n",
    "\n",
    "Do the regression results support the idea that the $\\frn$-USD carry trade works? Specifically, if we observe an increase in the interest rate on USD relative to $\\frn$, should we expect the USD to get stronger (appreciate) or weaker (depreciate)?"
   ]
  },
  {
   "cell_type": "markdown",
   "id": "f20833ee",
   "metadata": {},
   "source": [
    "***"
   ]
  },
  {
   "cell_type": "markdown",
   "id": "20993764",
   "metadata": {},
   "source": [
    "# 2. Expected Returns"
   ]
  },
  {
   "cell_type": "markdown",
   "id": "21c9d8c2",
   "metadata": {},
   "source": [
    "Use `monthly` the data in the sheet `excess returns`."
   ]
  },
  {
   "cell_type": "markdown",
   "id": "31210356",
   "metadata": {},
   "source": [
    "#### **<span style=\"color:red\">Load Data</span>**"
   ]
  },
  {
   "cell_type": "code",
   "execution_count": 19,
   "id": "cc61b0ec",
   "metadata": {},
   "outputs": [],
   "source": [
    "DATAFILE = f'../data/exam_2_data.xlsx'\n",
    "\n",
    "FREQ = 12\n",
    "SHEET = 'excess returns'\n",
    "\n",
    "facs = pd.read_excel(DATAFILE,sheet_name=SHEET).set_index('date')"
   ]
  },
  {
   "cell_type": "code",
   "execution_count": 20,
   "id": "eaf5ce2a",
   "metadata": {},
   "outputs": [
    {
     "data": {
      "text/html": [
       "<div>\n",
       "<style scoped>\n",
       "    .dataframe tbody tr th:only-of-type {\n",
       "        vertical-align: middle;\n",
       "    }\n",
       "\n",
       "    .dataframe tbody tr th {\n",
       "        vertical-align: top;\n",
       "    }\n",
       "\n",
       "    .dataframe thead th {\n",
       "        text-align: right;\n",
       "    }\n",
       "</style>\n",
       "<table border=\"1\" class=\"dataframe\">\n",
       "  <thead>\n",
       "    <tr style=\"text-align: right;\">\n",
       "      <th></th>\n",
       "      <th>USO</th>\n",
       "      <th>UUP</th>\n",
       "    </tr>\n",
       "    <tr>\n",
       "      <th>date</th>\n",
       "      <th></th>\n",
       "      <th></th>\n",
       "    </tr>\n",
       "  </thead>\n",
       "  <tbody>\n",
       "    <tr>\n",
       "      <th>2015-02-28</th>\n",
       "      <td>0.0155</td>\n",
       "      <td>0.0026</td>\n",
       "    </tr>\n",
       "    <tr>\n",
       "      <th>2015-03-31</th>\n",
       "      <td>-0.0695</td>\n",
       "      <td>0.0279</td>\n",
       "    </tr>\n",
       "    <tr>\n",
       "      <th>2015-04-30</th>\n",
       "      <td>0.2178</td>\n",
       "      <td>-0.0383</td>\n",
       "    </tr>\n",
       "    <tr>\n",
       "      <th>2015-05-31</th>\n",
       "      <td>-0.0098</td>\n",
       "      <td>0.0221</td>\n",
       "    </tr>\n",
       "    <tr>\n",
       "      <th>2015-06-30</th>\n",
       "      <td>-0.0213</td>\n",
       "      <td>-0.0170</td>\n",
       "    </tr>\n",
       "    <tr>\n",
       "      <th>...</th>\n",
       "      <td>...</td>\n",
       "      <td>...</td>\n",
       "    </tr>\n",
       "    <tr>\n",
       "      <th>2024-08-31</th>\n",
       "      <td>-0.0487</td>\n",
       "      <td>-0.0220</td>\n",
       "    </tr>\n",
       "    <tr>\n",
       "      <th>2024-09-30</th>\n",
       "      <td>-0.0640</td>\n",
       "      <td>-0.0078</td>\n",
       "    </tr>\n",
       "    <tr>\n",
       "      <th>2024-10-31</th>\n",
       "      <td>0.0416</td>\n",
       "      <td>0.0326</td>\n",
       "    </tr>\n",
       "    <tr>\n",
       "      <th>2024-11-30</th>\n",
       "      <td>-0.0238</td>\n",
       "      <td>0.0186</td>\n",
       "    </tr>\n",
       "    <tr>\n",
       "      <th>2024-12-31</th>\n",
       "      <td>0.0409</td>\n",
       "      <td>0.0216</td>\n",
       "    </tr>\n",
       "  </tbody>\n",
       "</table>\n",
       "<p>119 rows × 2 columns</p>\n",
       "</div>"
      ],
      "text/plain": [
       "               USO     UUP\n",
       "date                      \n",
       "2015-02-28  0.0155  0.0026\n",
       "2015-03-31 -0.0695  0.0279\n",
       "2015-04-30  0.2178 -0.0383\n",
       "2015-05-31 -0.0098  0.0221\n",
       "2015-06-30 -0.0213 -0.0170\n",
       "...            ...     ...\n",
       "2024-08-31 -0.0487 -0.0220\n",
       "2024-09-30 -0.0640 -0.0078\n",
       "2024-10-31  0.0416  0.0326\n",
       "2024-11-30 -0.0238  0.0186\n",
       "2024-12-31  0.0409  0.0216\n",
       "\n",
       "[119 rows x 2 columns]"
      ]
     },
     "execution_count": 20,
     "metadata": {},
     "output_type": "execute_result"
    }
   ],
   "source": [
    "facs"
   ]
  },
  {
   "cell_type": "markdown",
   "id": "e1d383dc",
   "metadata": {},
   "source": [
    "***"
   ]
  },
  {
   "cell_type": "markdown",
   "id": "3b9f44d6",
   "metadata": {},
   "source": [
    "### 2.1.\n",
    "\n",
    "Consider the following equilibrium factor pricing model,\n",
    "\n",
    "$$\\mathbb{E}\\left[r\\right] = \\beta\\,  \\mathbb{E}\\left[x\\right]$$\n",
    "\n",
    "where\n",
    "* $r$ denotes the return on `USO`, and ETF for U.S. oil\n",
    "* $x$ denotes the returnso on `DXY`, an ETF for USD currency trades.\n",
    "\n",
    "Estimate the associated regression,\n",
    "$$r_t = \\alpha + \\beta x_t + \\epsilon_t$$\n",
    "\n",
    "Report,\n",
    "* $\\alpha$\n",
    "* $\\beta$\n",
    "* r-squared\n",
    "\n",
    "Annualize alpha."
   ]
  },
  {
   "cell_type": "markdown",
   "id": "a10c91c6",
   "metadata": {},
   "source": [
    "### 2.2.\n",
    "\n",
    "What evidence is there that this (simplistic) factor pricing model does not price `USO` correctly?"
   ]
  },
  {
   "cell_type": "markdown",
   "id": "c25d9c7d",
   "metadata": {},
   "source": [
    "### 2.3.\n",
    "\n",
    "What is the (annualized) expected return of `USO`, $\\mathbb{E}[r]$? \n",
    "\n",
    "What portion of this does the model attribute as a premium for holding risk? "
   ]
  },
  {
   "cell_type": "markdown",
   "id": "6e5ed99b",
   "metadata": {},
   "source": [
    "### 2.4.\n",
    "\n",
    "Now let's disregard the equilibrium pricing model above, and try calculating the expected return of `USO` via forecasting signals. To keep things simple, just use a forecasting regression (rather than a neural network, regression tree, etc.)\n",
    "\n",
    "$$r_{t+1} = \\alpha + \\beta x_t + \\epsilon_{t+1}$$\n",
    "\n",
    "From this **forecasting** regression, report\n",
    "* $\\alpha$\n",
    "* $\\beta$\n",
    "* r-squared\n",
    "\n",
    "Which metric would you use to assess the forecasting ability of this signal model?"
   ]
  },
  {
   "cell_type": "markdown",
   "id": "871a4ebf",
   "metadata": {},
   "source": [
    "### 2.5."
   ]
  },
  {
   "cell_type": "markdown",
   "id": "c5515d16",
   "metadata": {},
   "source": [
    "According to the signal forecasting model, what is the expected return (annualized) of `USO` in January 2025?"
   ]
  },
  {
   "cell_type": "markdown",
   "id": "ee708089",
   "metadata": {},
   "source": [
    "****"
   ]
  }
 ],
 "metadata": {
  "hide_input": false,
  "kernelspec": {
   "display_name": "Python 3 (ipykernel)",
   "language": "python",
   "name": "python3"
  },
  "language_info": {
   "codemirror_mode": {
    "name": "ipython",
    "version": 3
   },
   "file_extension": ".py",
   "mimetype": "text/x-python",
   "name": "python",
   "nbconvert_exporter": "python",
   "pygments_lexer": "ipython3",
   "version": "3.9.6"
  }
 },
 "nbformat": 4,
 "nbformat_minor": 5
}
