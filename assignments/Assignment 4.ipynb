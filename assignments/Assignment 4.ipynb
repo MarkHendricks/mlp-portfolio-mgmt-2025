{
 "cells": [
  {
   "cell_type": "markdown",
   "id": "a97c4251",
   "metadata": {},
   "source": [
    "# 4. Assignment\n",
    "\n",
    "## Portfolio Management\n",
    "### MLP Training\n",
    "\n",
    "#### January 2025\n",
    "\n",
    "Questions?\n",
    "* Contact: Mark Hendricks\n",
    "* hendricks@uchicago.edu"
   ]
  },
  {
   "cell_type": "markdown",
   "id": "cbb624b4",
   "metadata": {},
   "source": [
    "***"
   ]
  },
  {
   "cell_type": "markdown",
   "id": "d1614003",
   "metadata": {},
   "source": [
    "# 1. Carry in Equities\n",
    "\n",
    "### Data\n",
    "You will need the files in the github repo, \n",
    "* `data/spx_carry_weekly.xlsx`\n",
    "* `data/spx_returns_weekly.xlsx`"
   ]
  },
  {
   "cell_type": "markdown",
   "id": "d3962427",
   "metadata": {},
   "source": [
    "### 1. Data Processing\n",
    "* Take the intersection of dates of the two data sets, so you have one unified set of dates.\n",
    "* Report the maximum and minimum dividend yields from the entire panel of data. To which stocks did they belong?"
   ]
  },
  {
   "cell_type": "markdown",
   "id": "bfb4b87c",
   "metadata": {},
   "source": [
    "### 2. Static Carry\n",
    "* Starting at the beginning of the sample, build a portfolio where you go (equally) long the top 100 stocks as ranked by dividend yield, and you short (equally) the smallest 100 stocks as ranked by dividend yield.\n",
    "* Using those weights, calculate the return of your portfolio over time. \n",
    "\n",
    "Report the following annualized stats\n",
    "* mean\n",
    "* volatility\n",
    "* Sharpe"
   ]
  },
  {
   "cell_type": "markdown",
   "id": "293cd183",
   "metadata": {},
   "source": [
    "### 3. Challenges\n",
    "\n",
    "Mention two challenges of this strategy."
   ]
  },
  {
   "cell_type": "markdown",
   "id": "0ac590ef",
   "metadata": {},
   "source": [
    "### 4. Dynamic Carry\n",
    "\n",
    "Make the carry strategy of `2` dynamic by recalculating the weights every period.\n",
    "\n",
    "Report the performance statistics."
   ]
  },
  {
   "cell_type": "markdown",
   "id": "1eb93f62",
   "metadata": {},
   "source": [
    "### 5. Market Exposure\n",
    "\n",
    "Calculate a linear factor decomposition of your carry strategy (from part `2` or part `4`) against `SPY`.\n",
    "\n",
    "Report the...\n",
    "* alpha (annualized)\n",
    "* beta\n",
    "* r-squared"
   ]
  },
  {
   "cell_type": "markdown",
   "id": "a8609d16",
   "metadata": {},
   "source": [
    "***"
   ]
  }
 ],
 "metadata": {
  "hide_input": false,
  "kernelspec": {
   "display_name": "Python 3 (ipykernel)",
   "language": "python",
   "name": "python3"
  },
  "language_info": {
   "codemirror_mode": {
    "name": "ipython",
    "version": 3
   },
   "file_extension": ".py",
   "mimetype": "text/x-python",
   "name": "python",
   "nbconvert_exporter": "python",
   "pygments_lexer": "ipython3",
   "version": "3.9.6"
  }
 },
 "nbformat": 4,
 "nbformat_minor": 5
}
