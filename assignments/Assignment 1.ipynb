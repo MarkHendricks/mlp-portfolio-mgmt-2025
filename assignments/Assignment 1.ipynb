{
 "cells": [
  {
   "cell_type": "markdown",
   "id": "a97c4251",
   "metadata": {},
   "source": [
    "# 1. Assignment\n",
    "\n",
    "## Portfolio Management\n",
    "### MLP Training\n",
    "\n",
    "#### January 2025\n",
    "\n",
    "Questions?\n",
    "* Contact: Mark Hendricks\n",
    "* hendricks@uchicago.edu"
   ]
  },
  {
   "cell_type": "markdown",
   "id": "cbb624b4",
   "metadata": {},
   "source": [
    "***"
   ]
  },
  {
   "cell_type": "markdown",
   "id": "31dfdadc",
   "metadata": {},
   "source": [
    "# 1. Risk"
   ]
  },
  {
   "cell_type": "markdown",
   "id": "77eafffb",
   "metadata": {},
   "source": [
    "### 1. \n",
    "Suppose you are a large asset manager, running many strategies.\n",
    "\n",
    "A new strategy is proposed for your investment. Which performance metrics would be most influential to you as you decide on an allocation?\n",
    "\n",
    "\n",
    "### 2.\n",
    "Consider the data in `data/assignment_1_data.xlsx`. For each stock, calculate the (annualized)\n",
    "* mean\n",
    "* vol\n",
    "* sharpe\n",
    "\n",
    "Calculate those same statistics for...\n",
    "* equally-weighted portfolio of the stocks\n",
    "* equallly-weighted portfolio excluding `XOM`.\n",
    "\n",
    "\n",
    "### 3.\n",
    "Use the data in `data/multi_asset_etf_data.xlsx`. Make scatter plots where in each plot the vertical axis displays mean return. The horizontal axis displays different measures of risk...\n",
    "* volatility\n",
    "* skewness\n",
    "* kurtosis\n",
    "* 5th quantile return\n",
    "* max drawdown\n",
    "\n",
    "Do any of these scatterplots show strong evidence of a relationship between risk and return?"
   ]
  },
  {
   "cell_type": "markdown",
   "id": "f7d7adf1",
   "metadata": {},
   "source": [
    "***"
   ]
  }
 ],
 "metadata": {
  "hide_input": false,
  "kernelspec": {
   "display_name": "Python 3 (ipykernel)",
   "language": "python",
   "name": "python3"
  },
  "language_info": {
   "codemirror_mode": {
    "name": "ipython",
    "version": 3
   },
   "file_extension": ".py",
   "mimetype": "text/x-python",
   "name": "python",
   "nbconvert_exporter": "python",
   "pygments_lexer": "ipython3",
   "version": "3.12.5"
  }
 },
 "nbformat": 4,
 "nbformat_minor": 5
}
