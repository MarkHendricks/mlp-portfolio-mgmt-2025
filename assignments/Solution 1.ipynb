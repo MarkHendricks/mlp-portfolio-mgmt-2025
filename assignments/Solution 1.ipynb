{
 "cells": [
  {
   "cell_type": "markdown",
   "id": "a97c4251",
   "metadata": {},
   "source": [
    "# <span style=\"color:red\">1. Solution</span>\n",
    "\n",
    "## Portfolio Management\n",
    "### MLP Training\n",
    "\n",
    "#### January 2025\n",
    "\n",
    "Questions?\n",
    "* Contact: Mark Hendricks\n",
    "* hendricks@uchicago.edu"
   ]
  },
  {
   "cell_type": "markdown",
   "id": "cbb624b4",
   "metadata": {},
   "source": [
    "***"
   ]
  },
  {
   "cell_type": "markdown",
   "id": "31dfdadc",
   "metadata": {},
   "source": [
    "# 1. Risk"
   ]
  },
  {
   "cell_type": "markdown",
   "id": "77eafffb",
   "metadata": {},
   "source": [
    "### 1. \n",
    "Suppose you are a large asset manager, running many strategies.\n",
    "\n",
    "A new strategy is proposed for your investment. Which performance metrics would be most influential to you as you decide on an allocation?\n",
    "\n",
    "\n",
    "### 2.\n",
    "Consider the data in `data/assignment_1_data.xlsx`. For each stock, calculate the (annualized)\n",
    "* mean\n",
    "* vol\n",
    "* sharpe\n",
    "\n",
    "Calculate those same statistics for...\n",
    "* equally-weighted portfolio of the stocks\n",
    "* equallly-weighted portfolio excluding `XOM`.\n",
    "\n",
    "\n",
    "### 3.\n",
    "Use the data in `data/multi_asset_etf_data.xlsx`. Make scatter plots where in each plot the vertical axis displays mean return. The horizontal axis displays different measures of risk...\n",
    "* volatility\n",
    "* skewness\n",
    "* kurtosis\n",
    "* 5th quantile return\n",
    "* max drawdown\n",
    "\n",
    "Do any of these scatterplots show strong evidence of a relationship between risk and return?"
   ]
  },
  {
   "cell_type": "markdown",
   "id": "f7d7adf1",
   "metadata": {},
   "source": [
    "***"
   ]
  },
  {
   "cell_type": "markdown",
   "id": "370d0756",
   "metadata": {},
   "source": [
    "### **<span style=\"color:red\">1.1.</span>**"
   ]
  },
  {
   "cell_type": "markdown",
   "id": "7d265018",
   "metadata": {},
   "source": [
    "Some metrics are useful for measuring **stand-alone** performance...\n",
    "* mean\n",
    "* volatility\n",
    "* drawdown\n",
    "\n",
    "However, much more important would be metrics that measure how the fund's performance would impact a broader portfolio. These **marginal** performance statistics include...\n",
    "\n",
    "* correlation\n",
    "* alpha\n",
    "* beta\n",
    "* information ratio"
   ]
  },
  {
   "cell_type": "markdown",
   "id": "9305a6bc",
   "metadata": {},
   "source": [
    "### **<span style=\"color:red\">1.2.</span>**"
   ]
  },
  {
   "cell_type": "code",
   "execution_count": 1,
   "id": "1aaaa22e",
   "metadata": {},
   "outputs": [],
   "source": [
    "import pandas as pd\n",
    "import numpy as np\n",
    "from matplotlib import pyplot as plt"
   ]
  },
  {
   "cell_type": "code",
   "execution_count": 3,
   "id": "ee2c263d",
   "metadata": {},
   "outputs": [],
   "source": [
    "import sys\n",
    "sys.path.insert(0, '../cmds')\n",
    "from portfolio import performanceMetrics, maximumDrawdown"
   ]
  },
  {
   "cell_type": "code",
   "execution_count": 7,
   "id": "0dd5f988",
   "metadata": {},
   "outputs": [],
   "source": [
    "INFILE = \"../data/assignment_1_data.xlsx\"\n",
    "FREQ = 52\n",
    "\n",
    "info = pd.read_excel(INFILE,sheet_name='info').set_index('ticker')\n",
    "info"
   ]
  },
  {
   "cell_type": "code",
   "execution_count": 11,
   "id": "688938da",
   "metadata": {},
   "outputs": [],
   "source": [
    "retsx = pd.read_excel(INFILE,sheet_name='excess returns').set_index('date')\n",
    "\n",
    "port = retsx.mean(axis=1).to_frame().rename(columns={0:'equally-weighted'})\n",
    "\n",
    "TICK_EX = 'XOM'\n",
    "port[f'exclude {TICK_EX}'] = retsx.drop(columns=[TICK_EX]).mean(axis=1).to_frame().rename(columns={0:'equally-weighted'})\n",
    "\n",
    "retsx_all = pd.concat([port,retsx],axis=1)"
   ]
  },
  {
   "cell_type": "code",
   "execution_count": 12,
   "id": "2b1e3e0a",
   "metadata": {},
   "outputs": [
    {
     "data": {
      "text/html": [
       "<div>\n",
       "<style scoped>\n",
       "    .dataframe tbody tr th:only-of-type {\n",
       "        vertical-align: middle;\n",
       "    }\n",
       "\n",
       "    .dataframe tbody tr th {\n",
       "        vertical-align: top;\n",
       "    }\n",
       "\n",
       "    .dataframe thead th {\n",
       "        text-align: right;\n",
       "    }\n",
       "</style>\n",
       "<table border=\"1\" class=\"dataframe\">\n",
       "  <thead>\n",
       "    <tr style=\"text-align: right;\">\n",
       "      <th></th>\n",
       "      <th>Mean</th>\n",
       "      <th>Vol</th>\n",
       "      <th>Sharpe</th>\n",
       "      <th>Min</th>\n",
       "      <th>Max</th>\n",
       "    </tr>\n",
       "  </thead>\n",
       "  <tbody>\n",
       "    <tr>\n",
       "      <th>equally-weighted</th>\n",
       "      <td>0.328080</td>\n",
       "      <td>0.253437</td>\n",
       "      <td>1.294523</td>\n",
       "      <td>-0.153175</td>\n",
       "      <td>0.112467</td>\n",
       "    </tr>\n",
       "    <tr>\n",
       "      <th>exclude XOM</th>\n",
       "      <td>0.367068</td>\n",
       "      <td>0.276539</td>\n",
       "      <td>1.327365</td>\n",
       "      <td>-0.152638</td>\n",
       "      <td>0.124607</td>\n",
       "    </tr>\n",
       "    <tr>\n",
       "      <th>AAPL</th>\n",
       "      <td>0.264010</td>\n",
       "      <td>0.281820</td>\n",
       "      <td>0.936802</td>\n",
       "      <td>-0.190553</td>\n",
       "      <td>0.143572</td>\n",
       "    </tr>\n",
       "    <tr>\n",
       "      <th>MSFT</th>\n",
       "      <td>0.273016</td>\n",
       "      <td>0.245809</td>\n",
       "      <td>1.110681</td>\n",
       "      <td>-0.155696</td>\n",
       "      <td>0.153519</td>\n",
       "    </tr>\n",
       "    <tr>\n",
       "      <th>AMZN</th>\n",
       "      <td>0.302677</td>\n",
       "      <td>0.308214</td>\n",
       "      <td>0.982034</td>\n",
       "      <td>-0.151901</td>\n",
       "      <td>0.188375</td>\n",
       "    </tr>\n",
       "    <tr>\n",
       "      <th>NVDA</th>\n",
       "      <td>0.678099</td>\n",
       "      <td>0.456552</td>\n",
       "      <td>1.485262</td>\n",
       "      <td>-0.210209</td>\n",
       "      <td>0.332546</td>\n",
       "    </tr>\n",
       "    <tr>\n",
       "      <th>GOOGL</th>\n",
       "      <td>0.232592</td>\n",
       "      <td>0.287975</td>\n",
       "      <td>0.807680</td>\n",
       "      <td>-0.135546</td>\n",
       "      <td>0.254033</td>\n",
       "    </tr>\n",
       "    <tr>\n",
       "      <th>TSLA</th>\n",
       "      <td>0.452013</td>\n",
       "      <td>0.584168</td>\n",
       "      <td>0.773773</td>\n",
       "      <td>-0.284958</td>\n",
       "      <td>0.334896</td>\n",
       "    </tr>\n",
       "    <tr>\n",
       "      <th>XOM</th>\n",
       "      <td>0.094151</td>\n",
       "      <td>0.296208</td>\n",
       "      <td>0.317856</td>\n",
       "      <td>-0.175337</td>\n",
       "      <td>0.184175</td>\n",
       "    </tr>\n",
       "  </tbody>\n",
       "</table>\n",
       "</div>"
      ],
      "text/plain": [
       "                      Mean       Vol    Sharpe       Min       Max\n",
       "equally-weighted  0.328080  0.253437  1.294523 -0.153175  0.112467\n",
       "exclude XOM       0.367068  0.276539  1.327365 -0.152638  0.124607\n",
       "AAPL              0.264010  0.281820  0.936802 -0.190553  0.143572\n",
       "MSFT              0.273016  0.245809  1.110681 -0.155696  0.153519\n",
       "AMZN              0.302677  0.308214  0.982034 -0.151901  0.188375\n",
       "NVDA              0.678099  0.456552  1.485262 -0.210209  0.332546\n",
       "GOOGL             0.232592  0.287975  0.807680 -0.135546  0.254033\n",
       "TSLA              0.452013  0.584168  0.773773 -0.284958  0.334896\n",
       "XOM               0.094151  0.296208  0.317856 -0.175337  0.184175"
      ]
     },
     "execution_count": 12,
     "metadata": {},
     "output_type": "execute_result"
    }
   ],
   "source": [
    "performanceMetrics(retsx_all,annualization=FREQ)"
   ]
  },
  {
   "cell_type": "markdown",
   "id": "7c8913a8",
   "metadata": {},
   "source": [
    "The performance is substantially better for the equally-weighted portfolio than for any single stock, except `NVDA`.\n",
    "\n",
    "Excluding `XOM` reduces diversification, but in this case it still leads to a beter portfolio given that `XOM` had a much worse mean and Sharpe ratio than any other investment."
   ]
  },
  {
   "cell_type": "markdown",
   "id": "feb7a4db",
   "metadata": {},
   "source": [
    "### **<span style=\"color:red\">1.3.</span>**"
   ]
  },
  {
   "cell_type": "markdown",
   "id": "cb3defad",
   "metadata": {},
   "source": [
    "None of the metrics show a strong proportional relationship to historic mean return.\n",
    "\n",
    "This could indicate that...\n",
    "* historic mean or historic risk are not good indicators of the future.\n",
    "* there is some other risk metric which corresponds better to mean returns.\n",
    "* markets do not efficiently price risk: perhaps is no clear relationship between risk and return.\n",
    "\n",
    "We will see further evidence for the first and second ideas in other discussions."
   ]
  },
  {
   "cell_type": "code",
   "execution_count": 14,
   "id": "6ce0a050",
   "metadata": {},
   "outputs": [
    {
     "data": {
      "text/html": [
       "<div>\n",
       "<style scoped>\n",
       "    .dataframe tbody tr th:only-of-type {\n",
       "        vertical-align: middle;\n",
       "    }\n",
       "\n",
       "    .dataframe tbody tr th {\n",
       "        vertical-align: top;\n",
       "    }\n",
       "\n",
       "    .dataframe thead th {\n",
       "        text-align: right;\n",
       "    }\n",
       "</style>\n",
       "<table border=\"1\" class=\"dataframe\">\n",
       "  <thead>\n",
       "    <tr style=\"text-align: right;\">\n",
       "      <th></th>\n",
       "      <th>shortName</th>\n",
       "      <th>quoteType</th>\n",
       "      <th>currency</th>\n",
       "      <th>volume</th>\n",
       "      <th>totalAssets</th>\n",
       "      <th>longBusinessSummary</th>\n",
       "    </tr>\n",
       "    <tr>\n",
       "      <th>ticker</th>\n",
       "      <th></th>\n",
       "      <th></th>\n",
       "      <th></th>\n",
       "      <th></th>\n",
       "      <th></th>\n",
       "      <th></th>\n",
       "    </tr>\n",
       "  </thead>\n",
       "  <tbody>\n",
       "    <tr>\n",
       "      <th>SPY</th>\n",
       "      <td>SPDR S&amp;P 500</td>\n",
       "      <td>ETF</td>\n",
       "      <td>USD</td>\n",
       "      <td>25604208</td>\n",
       "      <td>627773800448</td>\n",
       "      <td>The Trust seeks to achieve its investment obje...</td>\n",
       "    </tr>\n",
       "    <tr>\n",
       "      <th>EFA</th>\n",
       "      <td>iShares MSCI EAFE ETF</td>\n",
       "      <td>ETF</td>\n",
       "      <td>USD</td>\n",
       "      <td>10653257</td>\n",
       "      <td>54985711616</td>\n",
       "      <td>The fund generally will invest at least 80% of...</td>\n",
       "    </tr>\n",
       "    <tr>\n",
       "      <th>EEM</th>\n",
       "      <td>iShares MSCI Emerging Index Fun</td>\n",
       "      <td>ETF</td>\n",
       "      <td>USD</td>\n",
       "      <td>17962107</td>\n",
       "      <td>17468592128</td>\n",
       "      <td>The fund generally will invest at least 80% of...</td>\n",
       "    </tr>\n",
       "    <tr>\n",
       "      <th>PSP</th>\n",
       "      <td>Invesco Global Listed Private E</td>\n",
       "      <td>ETF</td>\n",
       "      <td>USD</td>\n",
       "      <td>8928</td>\n",
       "      <td>277930496</td>\n",
       "      <td>The fund generally will invest at least 90% of...</td>\n",
       "    </tr>\n",
       "    <tr>\n",
       "      <th>QAI</th>\n",
       "      <td>NYLI Hedge Multi-Strategy Track</td>\n",
       "      <td>ETF</td>\n",
       "      <td>USD</td>\n",
       "      <td>49257</td>\n",
       "      <td>637390272</td>\n",
       "      <td>The fund is a \"fund of funds\" which means it i...</td>\n",
       "    </tr>\n",
       "    <tr>\n",
       "      <th>HYG</th>\n",
       "      <td>iShares iBoxx $ High Yield Corp</td>\n",
       "      <td>ETF</td>\n",
       "      <td>USD</td>\n",
       "      <td>22374708</td>\n",
       "      <td>15881510912</td>\n",
       "      <td>The underlying index is a rules-based index co...</td>\n",
       "    </tr>\n",
       "    <tr>\n",
       "      <th>DBC</th>\n",
       "      <td>Invesco DB Commodity Index Trac</td>\n",
       "      <td>ETF</td>\n",
       "      <td>USD</td>\n",
       "      <td>478168</td>\n",
       "      <td>1387142912</td>\n",
       "      <td>The fund pursues its investment objective by i...</td>\n",
       "    </tr>\n",
       "    <tr>\n",
       "      <th>IYR</th>\n",
       "      <td>iShares U.S. Real Estate ETF</td>\n",
       "      <td>ETF</td>\n",
       "      <td>USD</td>\n",
       "      <td>2699001</td>\n",
       "      <td>4990495744</td>\n",
       "      <td>The fund seeks to track the investment results...</td>\n",
       "    </tr>\n",
       "    <tr>\n",
       "      <th>IEF</th>\n",
       "      <td>iShares 7-10 Year Treasury Bond</td>\n",
       "      <td>ETF</td>\n",
       "      <td>USD</td>\n",
       "      <td>2340833</td>\n",
       "      <td>32854654976</td>\n",
       "      <td>The underlying index measures the performance ...</td>\n",
       "    </tr>\n",
       "    <tr>\n",
       "      <th>BWX</th>\n",
       "      <td>SPDR Bloomberg International Tr</td>\n",
       "      <td>ETF</td>\n",
       "      <td>USD</td>\n",
       "      <td>180426</td>\n",
       "      <td>959621824</td>\n",
       "      <td>The fund generally invests substantially all, ...</td>\n",
       "    </tr>\n",
       "    <tr>\n",
       "      <th>TIP</th>\n",
       "      <td>iShares TIPS Bond ETF</td>\n",
       "      <td>ETF</td>\n",
       "      <td>USD</td>\n",
       "      <td>2132017</td>\n",
       "      <td>15497157632</td>\n",
       "      <td>The index tracks the performance of inflation-...</td>\n",
       "    </tr>\n",
       "    <tr>\n",
       "      <th>SHV</th>\n",
       "      <td>iShares Short Treasury Bond ETF</td>\n",
       "      <td>ETF</td>\n",
       "      <td>USD</td>\n",
       "      <td>1850899</td>\n",
       "      <td>18620065792</td>\n",
       "      <td>The fund will invest at least 80% of its asset...</td>\n",
       "    </tr>\n",
       "  </tbody>\n",
       "</table>\n",
       "</div>"
      ],
      "text/plain": [
       "                              shortName quoteType currency    volume  \\\n",
       "ticker                                                                 \n",
       "SPY                        SPDR S&P 500       ETF      USD  25604208   \n",
       "EFA               iShares MSCI EAFE ETF       ETF      USD  10653257   \n",
       "EEM     iShares MSCI Emerging Index Fun       ETF      USD  17962107   \n",
       "PSP     Invesco Global Listed Private E       ETF      USD      8928   \n",
       "QAI     NYLI Hedge Multi-Strategy Track       ETF      USD     49257   \n",
       "HYG     iShares iBoxx $ High Yield Corp       ETF      USD  22374708   \n",
       "DBC     Invesco DB Commodity Index Trac       ETF      USD    478168   \n",
       "IYR        iShares U.S. Real Estate ETF       ETF      USD   2699001   \n",
       "IEF     iShares 7-10 Year Treasury Bond       ETF      USD   2340833   \n",
       "BWX     SPDR Bloomberg International Tr       ETF      USD    180426   \n",
       "TIP               iShares TIPS Bond ETF       ETF      USD   2132017   \n",
       "SHV     iShares Short Treasury Bond ETF       ETF      USD   1850899   \n",
       "\n",
       "         totalAssets                                longBusinessSummary  \n",
       "ticker                                                                   \n",
       "SPY     627773800448  The Trust seeks to achieve its investment obje...  \n",
       "EFA      54985711616  The fund generally will invest at least 80% of...  \n",
       "EEM      17468592128  The fund generally will invest at least 80% of...  \n",
       "PSP        277930496  The fund generally will invest at least 90% of...  \n",
       "QAI        637390272  The fund is a \"fund of funds\" which means it i...  \n",
       "HYG      15881510912  The underlying index is a rules-based index co...  \n",
       "DBC       1387142912  The fund pursues its investment objective by i...  \n",
       "IYR       4990495744  The fund seeks to track the investment results...  \n",
       "IEF      32854654976  The underlying index measures the performance ...  \n",
       "BWX        959621824  The fund generally invests substantially all, ...  \n",
       "TIP      15497157632  The index tracks the performance of inflation-...  \n",
       "SHV      18620065792  The fund will invest at least 80% of its asset...  "
      ]
     },
     "execution_count": 14,
     "metadata": {},
     "output_type": "execute_result"
    }
   ],
   "source": [
    "INFILE = \"../data/multi_asset_etf_data.xlsx\"\n",
    "FREQ = 12\n",
    "\n",
    "info = pd.read_excel(INFILE,sheet_name='descriptions').set_index('ticker')\n",
    "info"
   ]
  },
  {
   "cell_type": "code",
   "execution_count": 15,
   "id": "87921a58",
   "metadata": {},
   "outputs": [],
   "source": [
    "USE_EXCESS = False\n",
    "\n",
    "if USE_EXCESS:\n",
    "    SHEET = 'excess returns'\n",
    "else:\n",
    "    SHEET = 'total returns'\n",
    "    \n",
    "rets = pd.read_excel(INFILE,sheet_name=SHEET).set_index('Date')"
   ]
  },
  {
   "cell_type": "code",
   "execution_count": 22,
   "id": "642cec38",
   "metadata": {},
   "outputs": [],
   "source": [
    "QUANTILE = .05\n",
    "\n",
    "stats = pd.DataFrame(index=rets.columns,columns=['mean','vol','skewness','kurtosis','quantile','max drawdown'],dtype=float)\n",
    "stats['mean'] = rets.mean() * FREQ\n",
    "stats['vol'] = rets.std() * np.sqrt(FREQ)\n",
    "stats['skewness'] = rets.skew()\n",
    "stats['kurtosis'] = rets.kurtosis()\n",
    "stats['quantile'] = rets.quantile(QUANTILE)\n",
    "stats['max drawdown'] = maximumDrawdown(rets)['Max Drawdown']"
   ]
  },
  {
   "cell_type": "code",
   "execution_count": 24,
   "id": "3d2d5cca",
   "metadata": {},
   "outputs": [
    {
     "data": {
      "image/png": "[encoded data removed]",
      "text/plain": [
       "<Figure size 640x480 with 1 Axes>"
      ]
     },
     "metadata": {},
     "output_type": "display_data"
    },
    {
     "data": {
      "image/png": "[encoded data removed]",
      "text/plain": [
       "<Figure size 640x480 with 1 Axes>"
      ]
     },
     "metadata": {},
     "output_type": "display_data"
    },
    {
     "data": {
      "image/png": "[encoded data removed]",
      "text/plain": [
       "<Figure size 640x480 with 1 Axes>"
      ]
     },
     "metadata": {},
     "output_type": "display_data"
    },
    {
     "data": {
      "image/png": "[encoded data removed]",
      "text/plain": [
       "<Figure size 640x480 with 1 Axes>"
      ]
     },
     "metadata": {},
     "output_type": "display_data"
    },
    {
     "data": {
      "image/png": "[encoded data removed]",
      "text/plain": [
       "<Figure size 640x480 with 1 Axes>"
      ]
     },
     "metadata": {},
     "output_type": "display_data"
    }
   ],
   "source": [
    "for col in stats.columns[1:]:\n",
    "    stats.plot.scatter(x='mean',y=col)"
   ]
  }
 ],
 "metadata": {
  "hide_input": false,
  "kernelspec": {
   "display_name": "Python 3 (ipykernel)",
   "language": "python",
   "name": "python3"
  },
  "language_info": {
   "codemirror_mode": {
    "name": "ipython",
    "version": 3
   },
   "file_extension": ".py",
   "mimetype": "text/x-python",
   "name": "python",
   "nbconvert_exporter": "python",
   "pygments_lexer": "ipython3",
   "version": "3.9.6"
  }
 },
 "nbformat": 4,
 "nbformat_minor": 5
}
