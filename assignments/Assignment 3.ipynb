{
 "cells": [
  {
   "cell_type": "markdown",
   "id": "a97c4251",
   "metadata": {},
   "source": [
    "# 3. Assignment\n",
    "\n",
    "## Portfolio Management\n",
    "### MLP Training\n",
    "\n",
    "#### January 2025\n",
    "\n",
    "Questions?\n",
    "* Contact: Mark Hendricks\n",
    "* hendricks@uchicago.edu"
   ]
  },
  {
   "cell_type": "markdown",
   "id": "cbb624b4",
   "metadata": {},
   "source": [
    "***"
   ]
  },
  {
   "cell_type": "markdown",
   "id": "d1614003",
   "metadata": {},
   "source": [
    "# 1. Mean-Variance Optimization\n",
    "\n",
    "### Data\n",
    "You will need the file in the github repo, `data/multi_asset_etf_data.xlsx`.\n",
    "- The time-series data gives monthly returns for the 11 asset classes and a short-term Treasury-bill fund return, (\"SHV\",) which we consider as the risk-free rate.\n",
    "- The data is provided in total returns, (in which case you should ignore the SHV column,) as well as excess returns, (where SHV has been subtracted from the other columns.)\n",
    "\n",
    "### Model\n",
    "We are going to analyze the problem in terms of **excess** returns.\n",
    "- Be sure to use the`excess returns` tab of the data.\n",
    "\n",
    "### Format\n",
    "In the questions below, **annualize the statistics** you report, noting it is monthly data."
   ]
  },
  {
   "cell_type": "markdown",
   "id": "d3962427",
   "metadata": {},
   "source": [
    "### 1. Summary Statistics\n",
    "* Calculate and display the mean and volatility of each asset’s excess return.\n",
    "* Which assets have the best and worst Sharpe ratios?"
   ]
  },
  {
   "cell_type": "markdown",
   "id": "bfb4b87c",
   "metadata": {},
   "source": [
    "### 2. Descriptive Analysis\n",
    "* Calculate the correlation matrix of the returns. Which pair has the highest correlation? And the lowest?\n",
    "* How well have TIPS done in our sample? Have they outperformed domestic bonds? Foreign bonds?"
   ]
  },
  {
   "cell_type": "markdown",
   "id": "0ac590ef",
   "metadata": {},
   "source": [
    "### 3. The MV frontier.\n",
    "* Compute and display the weights of the mean-variance optimal (tangency) portfolio.\n",
    "* Does the ranking of weights align with the ranking of Sharpe ratios?\n",
    "* Compute the mean, volatility, and Sharpe ratio for the tangency portfolio."
   ]
  },
  {
   "cell_type": "markdown",
   "id": "29b1a4cc",
   "metadata": {},
   "source": [
    "### 4. TIPS\n",
    "Assess how much the tangency portfolio (and performance) change if...\n",
    "* TIPS are dropped completely from the investment set.\n",
    "* The expected excess monthly return to TIPS is adjusted to be `0.0012` higher than what the historic sample shows."
   ]
  },
  {
   "cell_type": "markdown",
   "id": "3793ead1",
   "metadata": {},
   "source": [
    "### 5. Bounds\n",
    "\n",
    "Classically, allocators placed bounds on the portfolio rather than implementing whatever numbers come out of the Mean-Variance optimization problem.\n",
    "\n",
    "What are the pros and cons of using these extra constraints?"
   ]
  },
  {
   "cell_type": "markdown",
   "id": "a8609d16",
   "metadata": {},
   "source": [
    "***"
   ]
  }
 ],
 "metadata": {
  "hide_input": false,
  "kernelspec": {
   "display_name": "Python 3 (ipykernel)",
   "language": "python",
   "name": "python3"
  },
  "language_info": {
   "codemirror_mode": {
    "name": "ipython",
    "version": 3
   },
   "file_extension": ".py",
   "mimetype": "text/x-python",
   "name": "python",
   "nbconvert_exporter": "python",
   "pygments_lexer": "ipython3",
   "version": "3.12.5"
  }
 },
 "nbformat": 4,
 "nbformat_minor": 5
}
