{
 "cells": [
  {
   "cell_type": "code",
   "execution_count": 44,
   "id": "a172c653",
   "metadata": {},
   "outputs": [],
   "source": [
    "import pandas as pd\n",
    "import numpy as np\n",
    "from xbbg import blp\n",
    "\n",
    "import string\n",
    "\n",
    "import sys\n",
    "sys.path.insert(0, '../cmds')\n",
    "#from utils import *\n",
    "\n",
    "\n",
    "import matplotlib.pyplot as plt\n",
    "%matplotlib inline\n",
    "plt.rcParams['figure.figsize'] = (12,6)\n",
    "plt.rcParams['font.size'] = 15\n",
    "plt.rcParams['legend.fontsize'] = 13"
   ]
  },
  {
   "cell_type": "code",
   "execution_count": 45,
   "id": "413264b1",
   "metadata": {},
   "outputs": [],
   "source": [
    "TICKS = [\n",
    "    'SPY US Equity',\n",
    "    'EMG LN Equity',\n",
    "    'BX US Equity',\n",
    "    'KKR US Equity',\n",
    "    'APO US Equity',\n",
    "    'CG US Equity',\n",
    "    'ARES US Equity'\n",
    "    ]\n",
    "STARTDATE = '2004-01-01'\n",
    "ENDDATE = '2024-12-31'"
   ]
  },
  {
   "cell_type": "code",
   "execution_count": 46,
   "id": "51c91da4",
   "metadata": {},
   "outputs": [],
   "source": [
    "FLDS = ['NAME','LONG_COMP_NAME','EQY_DVD_YLD_IND']\n",
    "\n",
    "etf_info = blp.bdp(tickers=TICKS, flds=FLDS)#.droplevel(level=0,axis=1)\n",
    "\n",
    "etf_info.index = [row.split()[0] for row in etf_info.index]\n",
    "tick_abbrev = etf_info.index\n",
    "etf_info.index.name = 'ticker'"
   ]
  },
  {
   "cell_type": "code",
   "execution_count": 47,
   "id": "0fb191da",
   "metadata": {},
   "outputs": [
    {
     "name": "stderr",
     "output_type": "stream",
     "text": [
      "/var/folders/zx/3v_qt0957xzg3nqtnkv007d00000gn/T/ipykernel_21052/1641544825.py:9: FutureWarning: The default fill_method='pad' in DataFrame.pct_change is deprecated and will be removed in a future version. Either fill in any non-leading NA values prior to calling pct_change or specify 'fill_method=None' to not fill NA values.\n",
      "  rets = prices.pct_change().dropna()\n"
     ]
    }
   ],
   "source": [
    "FLDS = ['last_price']\n",
    "prices = blp.bdh(tickers=TICKS, flds=FLDS, start_date=STARTDATE,\n",
    "                     end_date=ENDDATE,adjust='all').droplevel(level=1,axis=1)\n",
    "\n",
    "prices.index.name = 'date'\n",
    "#prices.index = prices.index.tz_localize(None)\n",
    "#prices.index = pd.to_datetime(data_adj.index)\n",
    "\n",
    "rets = prices.pct_change().dropna()"
   ]
  },
  {
   "cell_type": "markdown",
   "id": "2e354ee3",
   "metadata": {},
   "source": [
    "# Save File"
   ]
  },
  {
   "cell_type": "code",
   "execution_count": 48,
   "id": "d2cd12d1",
   "metadata": {},
   "outputs": [],
   "source": [
    "OUTFILE = f'../data/fund_data.xlsx'\n",
    "with pd.ExcelWriter(OUTFILE) as writer:      \n",
    "    etf_info.to_excel(writer, sheet_name= f'info', index=True)\n",
    "    rets.to_excel(writer, sheet_name= f'total returns', index=True)"
   ]
  }
 ],
 "metadata": {
  "hide_input": false,
  "kernelspec": {
   "display_name": "Python 3 (ipykernel)",
   "language": "python",
   "name": "python3"
  },
  "language_info": {
   "codemirror_mode": {
    "name": "ipython",
    "version": 3
   },
   "file_extension": ".py",
   "mimetype": "text/x-python",
   "name": "python",
   "nbconvert_exporter": "python",
   "pygments_lexer": "ipython3",
   "version": "3.9.6"
  }
 },
 "nbformat": 4,
 "nbformat_minor": 5
}
