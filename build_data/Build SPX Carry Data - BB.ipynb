{
 "cells": [
  {
   "cell_type": "code",
   "execution_count": 23,
   "id": "aeb4207d",
   "metadata": {},
   "outputs": [],
   "source": [
    "import pandas as pd\n",
    "import numpy as np\n",
    "\n",
    "import datetime as dt\n",
    "import string\n",
    "\n",
    "import matplotlib.pyplot as plt"
   ]
  },
  {
   "cell_type": "code",
   "execution_count": 24,
   "id": "fce99089",
   "metadata": {},
   "outputs": [],
   "source": [
    "from xbbg import blp"
   ]
  },
  {
   "cell_type": "markdown",
   "id": "b7f6c9dd",
   "metadata": {},
   "source": [
    "### Parameters"
   ]
  },
  {
   "cell_type": "code",
   "execution_count": 25,
   "id": "026af599",
   "metadata": {},
   "outputs": [],
   "source": [
    "WRITE_DATA = True\n",
    "\n",
    "TODAY = dt.datetime.today().strftime('%Y%m%d')  \n",
    "OUTFILE = f'../build_data/spx_carry_{TODAY}.xlsx'"
   ]
  },
  {
   "cell_type": "markdown",
   "id": "0a8dd203",
   "metadata": {},
   "source": [
    "# Get SPX Members"
   ]
  },
  {
   "cell_type": "markdown",
   "id": "c74467d6",
   "metadata": {},
   "source": [
    "#### BB Call"
   ]
  },
  {
   "cell_type": "code",
   "execution_count": 26,
   "id": "e0f2d691",
   "metadata": {},
   "outputs": [],
   "source": [
    "DT_MEMBERS = TODAY\n",
    "weights = blp.bds(['SPX Index'],flds=['INDX_MWEIGHT_HIST'],END_DATE_OVERRIDE=DT_MEMBERS)"
   ]
  },
  {
   "cell_type": "code",
   "execution_count": 27,
   "id": "a23230f9",
   "metadata": {},
   "outputs": [],
   "source": [
    "TICKS_SPX = weights.index_member.str.split().str.get(0)\n",
    "TICKS_SPX_BB = (TICKS_SPX + [' US Equity']).to_list()\n",
    "TICKS_SPX = TICKS_SPX.to_list()\n",
    "\n",
    "weights.set_index('index_member',inplace=True)\n",
    "weights.index = weights.index.str.split(' ').str[0]\n",
    "\n",
    "spx_members = pd.DataFrame({'tickers':TICKS_SPX, 'BB tickers':TICKS_SPX_BB})\n",
    "spx_members.set_index('tickers',inplace=True)\n",
    "\n",
    "tickerBB_to_ticker = spx_members.reset_index().set_index('BB tickers')['tickers'].to_dict()"
   ]
  },
  {
   "cell_type": "markdown",
   "id": "9a9a6f74",
   "metadata": {},
   "source": [
    "## Download Ticker Info"
   ]
  },
  {
   "cell_type": "markdown",
   "id": "da0a11e0",
   "metadata": {},
   "source": [
    "#### BB Call"
   ]
  },
  {
   "cell_type": "code",
   "execution_count": 28,
   "id": "d91c7f2a",
   "metadata": {},
   "outputs": [],
   "source": [
    "info_spx = blp.bdp(TICKS_SPX_BB,flds=['SECURITY_NAME','EQY_DVD_YLD_IND'])"
   ]
  },
  {
   "cell_type": "code",
   "execution_count": 29,
   "id": "4de3c8d6",
   "metadata": {},
   "outputs": [],
   "source": [
    "info_spx = info_spx.rename(index=tickerBB_to_ticker)"
   ]
  },
  {
   "cell_type": "markdown",
   "id": "9a2cda2d",
   "metadata": {},
   "source": [
    "# Download Adjusted Prices for all SPX Members"
   ]
  },
  {
   "cell_type": "code",
   "execution_count": 30,
   "id": "8e76c35f",
   "metadata": {},
   "outputs": [],
   "source": [
    "STARTDATE = '2014-12-31'\n",
    "ENDDATE = '2024-12-31'\n",
    "\n",
    "FLD = 'EQY_DVD_YLD_IND'"
   ]
  },
  {
   "cell_type": "markdown",
   "id": "6fe11f9c",
   "metadata": {},
   "source": [
    "#### BB Call. Careful: Running this takes awhile and uses lots of BB Data Limit"
   ]
  },
  {
   "cell_type": "code",
   "execution_count": 31,
   "id": "31bbd74f",
   "metadata": {},
   "outputs": [],
   "source": [
    "dvd_raw = blp.bdh(TICKS_SPX_BB,flds=[FLD],start_date=STARTDATE,end_date=ENDDATE)"
   ]
  },
  {
   "cell_type": "code",
   "execution_count": 32,
   "id": "7f3b3aef",
   "metadata": {},
   "outputs": [],
   "source": [
    "dvd = dvd_raw.droplevel(level=1,axis=1)\n",
    "dvd.rename(columns=tickerBB_to_ticker,inplace=True)"
   ]
  },
  {
   "cell_type": "markdown",
   "id": "1f890401",
   "metadata": {},
   "source": [
    "### Clean data for export"
   ]
  },
  {
   "cell_type": "code",
   "execution_count": 33,
   "id": "2083f4e1",
   "metadata": {},
   "outputs": [],
   "source": [
    "dvd.index.name = 'date'\n",
    "info_spx.index.name = 'ticker'\n",
    "cols = dvd.columns\n",
    "cols = [col.replace(' US Equity','') for col in cols]\n",
    "dvd.columns = cols   "
   ]
  },
  {
   "cell_type": "markdown",
   "id": "546d1489",
   "metadata": {},
   "source": [
    "## Save Data\n",
    "\n",
    "Takes a full minute or so to export the SPX member prices"
   ]
  },
  {
   "cell_type": "code",
   "execution_count": 34,
   "id": "9186a740",
   "metadata": {},
   "outputs": [],
   "source": [
    "if WRITE_DATA:\n",
    "    with pd.ExcelWriter(OUTFILE) as writer:  \n",
    "        info_spx.to_excel(writer, sheet_name= 'spx names')\n",
    "        \n",
    "        dvd.to_excel(writer, sheet_name='dvd yield')"
   ]
  },
  {
   "cell_type": "markdown",
   "id": "a5059b81",
   "metadata": {},
   "source": [
    "***"
   ]
  },
  {
   "cell_type": "markdown",
   "id": "daecfb32",
   "metadata": {},
   "source": [
    "# Process"
   ]
  },
  {
   "cell_type": "markdown",
   "id": "3b3e3150",
   "metadata": {},
   "source": []
  },
  {
   "cell_type": "code",
   "execution_count": 35,
   "id": "b3a22245",
   "metadata": {},
   "outputs": [],
   "source": [
    "INFILE = OUTFILE"
   ]
  },
  {
   "cell_type": "code",
   "execution_count": 36,
   "id": "a500a8ed",
   "metadata": {},
   "outputs": [],
   "source": [
    "spx_raw = pd.read_excel(INFILE,sheet_name='dvd yield').set_index('date')"
   ]
  },
  {
   "cell_type": "code",
   "execution_count": 37,
   "id": "de046411",
   "metadata": {},
   "outputs": [],
   "source": [
    "info_spx = pd.read_excel(INFILE,sheet_name='spx names').set_index('ticker')\n",
    "info_spx.columns = ['security name','dvd yield']"
   ]
  },
  {
   "cell_type": "code",
   "execution_count": 38,
   "id": "3e51f784",
   "metadata": {},
   "outputs": [],
   "source": [
    "DT0 = '2016'\n",
    "AGG = 'W-FRI'\n",
    "FREQ = 52\n",
    "\n",
    "spx = spx_raw.resample(AGG).last().iloc[:-1,:]\n",
    "spx /= 100"
   ]
  },
  {
   "cell_type": "code",
   "execution_count": 40,
   "id": "47c9c23d",
   "metadata": {},
   "outputs": [],
   "source": [
    "OUTFILE = '../data/spx_carry_weekly.xlsx'\n",
    "\n",
    "with pd.ExcelWriter(OUTFILE) as writer:  \n",
    "    info_spx.to_excel(writer, sheet_name= 's&p500 names')    \n",
    "    spx.to_excel(writer, sheet_name=f's&p500 dvd yield')"
   ]
  }
 ],
 "metadata": {
  "hide_input": false,
  "kernelspec": {
   "display_name": "Python 3 (ipykernel)",
   "language": "python",
   "name": "python3"
  },
  "language_info": {
   "codemirror_mode": {
    "name": "ipython",
    "version": 3
   },
   "file_extension": ".py",
   "mimetype": "text/x-python",
   "name": "python",
   "nbconvert_exporter": "python",
   "pygments_lexer": "ipython3",
   "version": "3.9.6"
  }
 },
 "nbformat": 4,
 "nbformat_minor": 5
}
