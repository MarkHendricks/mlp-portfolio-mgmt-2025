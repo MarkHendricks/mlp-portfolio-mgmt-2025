{
 "cells": [
  {
   "cell_type": "code",
   "execution_count": 1,
   "metadata": {},
   "outputs": [],
   "source": [
    "import numpy as np\n",
    "import pandas as pd"
   ]
  },
  {
   "cell_type": "code",
   "execution_count": 2,
   "metadata": {},
   "outputs": [],
   "source": [
    "OUTFILE = f'../data/exam_2_data.xlsx'"
   ]
  },
  {
   "cell_type": "markdown",
   "metadata": {},
   "source": [
    "***"
   ]
  },
  {
   "cell_type": "code",
   "execution_count": 3,
   "metadata": {},
   "outputs": [],
   "source": [
    "DATE = '2025-01-14'\n",
    "DATAPATH_FX = f'../data/fx_rf_data_{DATE}.xlsx'\n",
    "YRCUT = '2020'"
   ]
  },
  {
   "cell_type": "code",
   "execution_count": 4,
   "metadata": {},
   "outputs": [],
   "source": [
    "SHEET = 'exchange rates'\n",
    "fxraw = pd.read_excel(DATAPATH_FX, sheet_name=SHEET).set_index('date')"
   ]
  },
  {
   "cell_type": "code",
   "execution_count": 5,
   "metadata": {},
   "outputs": [],
   "source": [
    "SHEET = 'risk-free rates'\n",
    "rfraw = pd.read_excel(DATAPATH_FX,sheet_name=SHEET).set_index('date')"
   ]
  },
  {
   "cell_type": "code",
   "execution_count": 6,
   "metadata": {},
   "outputs": [],
   "source": [
    "shared_indexes = rfraw.index.intersection(fxraw.index)\n",
    "# Split the merged DataFrame back into the original two DataFrames with shared indexes\n",
    "rf = rfraw.loc[shared_indexes,:]\n",
    "fx = fxraw.loc[shared_indexes,:]\n",
    "\n",
    "rf = rf.loc[YRCUT:]\n",
    "fx = fx.loc[YRCUT:]\n",
    "\n",
    "DAYS = fx.resample('YE').size().median()\n",
    "rf /= DAYS"
   ]
  },
  {
   "cell_type": "code",
   "execution_count": 7,
   "metadata": {},
   "outputs": [],
   "source": [
    "#with pd.ExcelWriter(OUTFILE) as writer:  \n"
   ]
  },
  {
   "cell_type": "markdown",
   "metadata": {},
   "source": [
    "***"
   ]
  },
  {
   "cell_type": "code",
   "execution_count": 8,
   "metadata": {},
   "outputs": [
    {
     "name": "stderr",
     "output_type": "stream",
     "text": [
      "/Users/markhendricks/Projects/mlp-portfolio-mgmt-2025/venv/lib/python3.9/site-packages/urllib3/__init__.py:35: NotOpenSSLWarning: urllib3 v2 only supports OpenSSL 1.1.1+, currently the 'ssl' module is compiled with 'LibreSSL 2.8.3'. See: https://github.com/urllib3/urllib3/issues/3020\n",
      "  warnings.warn(\n"
     ]
    }
   ],
   "source": [
    "import yfinance as yf"
   ]
  },
  {
   "cell_type": "code",
   "execution_count": 9,
   "metadata": {},
   "outputs": [],
   "source": [
    "TICKS = [\n",
    "    'USO',\n",
    "    'UUP',\n",
    "    'SHV',\n",
    "]\n",
    "\n",
    "FLDS = ['shortName','quoteType','currency','volume','totalAssets','longBusinessSummary']"
   ]
  },
  {
   "cell_type": "code",
   "execution_count": 10,
   "metadata": {},
   "outputs": [],
   "source": [
    "info = pd.DataFrame(index=TICKS,columns=FLDS)\n",
    "info.index.name = 'ticker'\n",
    "for tick in info.index:\n",
    "    temp = yf.Ticker(tick).get_info()\n",
    "\n",
    "    for fld in FLDS:\n",
    "        if fld in temp.keys():\n",
    "            info.loc[tick,fld] = temp[fld]"
   ]
  },
  {
   "cell_type": "code",
   "execution_count": 11,
   "metadata": {},
   "outputs": [
    {
     "data": {
      "text/html": [
       "<div>\n",
       "<style scoped>\n",
       "    .dataframe tbody tr th:only-of-type {\n",
       "        vertical-align: middle;\n",
       "    }\n",
       "\n",
       "    .dataframe tbody tr th {\n",
       "        vertical-align: top;\n",
       "    }\n",
       "\n",
       "    .dataframe thead th {\n",
       "        text-align: right;\n",
       "    }\n",
       "</style>\n",
       "<table border=\"1\" class=\"dataframe\">\n",
       "  <thead>\n",
       "    <tr style=\"text-align: right;\">\n",
       "      <th></th>\n",
       "      <th>shortName</th>\n",
       "      <th>quoteType</th>\n",
       "      <th>currency</th>\n",
       "      <th>volume</th>\n",
       "      <th>totalAssets</th>\n",
       "      <th>longBusinessSummary</th>\n",
       "    </tr>\n",
       "    <tr>\n",
       "      <th>ticker</th>\n",
       "      <th></th>\n",
       "      <th></th>\n",
       "      <th></th>\n",
       "      <th></th>\n",
       "      <th></th>\n",
       "      <th></th>\n",
       "    </tr>\n",
       "  </thead>\n",
       "  <tbody>\n",
       "    <tr>\n",
       "      <th>USO</th>\n",
       "      <td>United States Oil Fund</td>\n",
       "      <td>ETF</td>\n",
       "      <td>USD</td>\n",
       "      <td>2027874</td>\n",
       "      <td>1042997568</td>\n",
       "      <td>USO invests primarily in futures contracts for...</td>\n",
       "    </tr>\n",
       "    <tr>\n",
       "      <th>UUP</th>\n",
       "      <td>Invesco DB USD Index Bullish Fu</td>\n",
       "      <td>ETF</td>\n",
       "      <td>USD</td>\n",
       "      <td>1279773</td>\n",
       "      <td>426569600</td>\n",
       "      <td>The fund invests in futures contracts in an at...</td>\n",
       "    </tr>\n",
       "    <tr>\n",
       "      <th>SHV</th>\n",
       "      <td>iShares Short Treasury Bond ETF</td>\n",
       "      <td>ETF</td>\n",
       "      <td>USD</td>\n",
       "      <td>7305725</td>\n",
       "      <td>19008184320</td>\n",
       "      <td>The fund will invest at least 80% of its asset...</td>\n",
       "    </tr>\n",
       "  </tbody>\n",
       "</table>\n",
       "</div>"
      ],
      "text/plain": [
       "                              shortName quoteType currency   volume  \\\n",
       "ticker                                                                \n",
       "USO              United States Oil Fund       ETF      USD  2027874   \n",
       "UUP     Invesco DB USD Index Bullish Fu       ETF      USD  1279773   \n",
       "SHV     iShares Short Treasury Bond ETF       ETF      USD  7305725   \n",
       "\n",
       "        totalAssets                                longBusinessSummary  \n",
       "ticker                                                                  \n",
       "USO      1042997568  USO invests primarily in futures contracts for...  \n",
       "UUP       426569600  The fund invests in futures contracts in an at...  \n",
       "SHV     19008184320  The fund will invest at least 80% of its asset...  "
      ]
     },
     "execution_count": 11,
     "metadata": {},
     "output_type": "execute_result"
    }
   ],
   "source": [
    "info"
   ]
  },
  {
   "cell_type": "code",
   "execution_count": 12,
   "metadata": {},
   "outputs": [
    {
     "name": "stderr",
     "output_type": "stream",
     "text": [
      "[*********************100%***********************]  3 of 3 completed\n"
     ]
    }
   ],
   "source": [
    "STARTDATE = '2015-01-01'\n",
    "ENDDATE = '2024-12-31'\n",
    "\n",
    "tickers = list(info.index.values)\n",
    "df = yf.download(tickers, start=STARTDATE, end=ENDDATE, auto_adjust=False)['Adj Close']"
   ]
  },
  {
   "cell_type": "code",
   "execution_count": 13,
   "metadata": {},
   "outputs": [
    {
     "name": "stderr",
     "output_type": "stream",
     "text": [
      "/var/folders/zx/3v_qt0957xzg3nqtnkv007d00000gn/T/ipykernel_43968/4268833471.py:1: FutureWarning: 'M' is deprecated and will be removed in a future version, please use 'ME' instead.\n",
      "  prices = df.resample('M').last()\n"
     ]
    }
   ],
   "source": [
    "prices = df.resample('M').last()\n",
    "\n",
    "# eliminate timezones\n",
    "prices.index = prices.index.tz_localize(None)\n",
    "prices.index.name = 'date'\n",
    "\n",
    "rets = prices.pct_change().dropna()\n",
    "\n",
    "# change to excess returns, in excess of short-term treasury\n",
    "retsx = rets.subtract(rets['SHV'], axis=0)\n",
    "retsx = retsx.drop(columns=['SHV'])"
   ]
  },
  {
   "cell_type": "markdown",
   "metadata": {},
   "source": [
    "***"
   ]
  },
  {
   "cell_type": "markdown",
   "metadata": {},
   "source": [
    "# Export Data"
   ]
  },
  {
   "cell_type": "code",
   "execution_count": 14,
   "metadata": {},
   "outputs": [],
   "source": [
    "with pd.ExcelWriter(OUTFILE) as writer:  \n",
    "    rf.to_excel(writer, sheet_name= 'risk-free rates', index=True)\n",
    "    fx.to_excel(writer, sheet_name= 'exchange rates', index=True)\n",
    "    #info.to_excel(writer, sheet_name= 'descriptions')\n",
    "    retsx.to_excel(writer, sheet_name='excess returns')"
   ]
  }
 ],
 "metadata": {
  "kernelspec": {
   "display_name": "venv",
   "language": "python",
   "name": "python3"
  },
  "language_info": {
   "codemirror_mode": {
    "name": "ipython",
    "version": 3
   },
   "file_extension": ".py",
   "mimetype": "text/x-python",
   "name": "python",
   "nbconvert_exporter": "python",
   "pygments_lexer": "ipython3",
   "version": "3.9.6"
  }
 },
 "nbformat": 4,
 "nbformat_minor": 2
}
