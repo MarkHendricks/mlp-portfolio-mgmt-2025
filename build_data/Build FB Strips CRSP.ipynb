{
 "cells": [
  {
   "cell_type": "code",
   "execution_count": 2,
   "metadata": {},
   "outputs": [
    {
     "name": "stdout",
     "output_type": "stream",
     "text": [
      "Loading library list...\n",
      "Done\n"
     ]
    }
   ],
   "source": [
    "import wrds\n",
    "file_key = open(\"../../keys/wrds_username.txt\",\"r\")\n",
    "USERNAME = file_key.read()\n",
    "file_key.close()\n",
    "\n",
    "db = wrds.Connection(wrds_username=USERNAME)\n",
    "#db.create_pgpass_file()"
   ]
  },
  {
   "cell_type": "code",
   "execution_count": 3,
   "metadata": {},
   "outputs": [],
   "source": [
    "import pandas as pd\n",
    "import numpy as np\n",
    "from datetime import date"
   ]
  },
  {
   "cell_type": "markdown",
   "metadata": {},
   "source": [
    "# Fama Bliss"
   ]
  },
  {
   "cell_type": "code",
   "execution_count": 4,
   "metadata": {},
   "outputs": [
    {
     "name": "stdout",
     "output_type": "stream",
     "text": [
      "Approximately 4350 rows in crsp_m_treasuries.tfz_mth_fb.\n"
     ]
    },
    {
     "data": {
      "text/html": [
       "<div>\n",
       "<style scoped>\n",
       "    .dataframe tbody tr th:only-of-type {\n",
       "        vertical-align: middle;\n",
       "    }\n",
       "\n",
       "    .dataframe tbody tr th {\n",
       "        vertical-align: top;\n",
       "    }\n",
       "\n",
       "    .dataframe thead th {\n",
       "        text-align: right;\n",
       "    }\n",
       "</style>\n",
       "<table border=\"1\" class=\"dataframe\">\n",
       "  <thead>\n",
       "    <tr style=\"text-align: right;\">\n",
       "      <th>maturity</th>\n",
       "      <th>1</th>\n",
       "      <th>2</th>\n",
       "      <th>3</th>\n",
       "      <th>4</th>\n",
       "      <th>5</th>\n",
       "    </tr>\n",
       "    <tr>\n",
       "      <th>date</th>\n",
       "      <th></th>\n",
       "      <th></th>\n",
       "      <th></th>\n",
       "      <th></th>\n",
       "      <th></th>\n",
       "    </tr>\n",
       "  </thead>\n",
       "  <tbody>\n",
       "    <tr>\n",
       "      <th>1952-06-30</th>\n",
       "      <td>98.177763</td>\n",
       "      <td>96.253133</td>\n",
       "      <td>94.246713</td>\n",
       "      <td>92.634134</td>\n",
       "      <td>90.418295</td>\n",
       "    </tr>\n",
       "    <tr>\n",
       "      <th>1952-07-31</th>\n",
       "      <td>98.094756</td>\n",
       "      <td>96.031453</td>\n",
       "      <td>93.931226</td>\n",
       "      <td>92.308865</td>\n",
       "      <td>89.851576</td>\n",
       "    </tr>\n",
       "    <tr>\n",
       "      <th>1952-08-29</th>\n",
       "      <td>98.057808</td>\n",
       "      <td>95.974988</td>\n",
       "      <td>93.781939</td>\n",
       "      <td>92.145776</td>\n",
       "      <td>89.571687</td>\n",
       "    </tr>\n",
       "    <tr>\n",
       "      <th>1952-09-30</th>\n",
       "      <td>98.031188</td>\n",
       "      <td>95.909789</td>\n",
       "      <td>93.755108</td>\n",
       "      <td>92.096104</td>\n",
       "      <td>89.167641</td>\n",
       "    </tr>\n",
       "    <tr>\n",
       "      <th>1952-10-31</th>\n",
       "      <td>98.110769</td>\n",
       "      <td>95.974490</td>\n",
       "      <td>93.758273</td>\n",
       "      <td>91.929019</td>\n",
       "      <td>89.724841</td>\n",
       "    </tr>\n",
       "    <tr>\n",
       "      <th>...</th>\n",
       "      <td>...</td>\n",
       "      <td>...</td>\n",
       "      <td>...</td>\n",
       "      <td>...</td>\n",
       "      <td>...</td>\n",
       "    </tr>\n",
       "    <tr>\n",
       "      <th>2024-07-31</th>\n",
       "      <td>95.442882</td>\n",
       "      <td>91.930210</td>\n",
       "      <td>88.676493</td>\n",
       "      <td>85.502712</td>\n",
       "      <td>82.412153</td>\n",
       "    </tr>\n",
       "    <tr>\n",
       "      <th>2024-08-30</th>\n",
       "      <td>95.761807</td>\n",
       "      <td>92.544654</td>\n",
       "      <td>89.401025</td>\n",
       "      <td>86.226586</td>\n",
       "      <td>83.196425</td>\n",
       "    </tr>\n",
       "    <tr>\n",
       "      <th>2024-09-30</th>\n",
       "      <td>96.148197</td>\n",
       "      <td>93.062254</td>\n",
       "      <td>89.977548</td>\n",
       "      <td>86.813966</td>\n",
       "      <td>83.795135</td>\n",
       "    </tr>\n",
       "    <tr>\n",
       "      <th>2024-10-31</th>\n",
       "      <td>95.866672</td>\n",
       "      <td>92.123287</td>\n",
       "      <td>88.488966</td>\n",
       "      <td>84.814957</td>\n",
       "      <td>81.400575</td>\n",
       "    </tr>\n",
       "    <tr>\n",
       "      <th>2024-11-29</th>\n",
       "      <td>95.918694</td>\n",
       "      <td>92.092297</td>\n",
       "      <td>88.543997</td>\n",
       "      <td>85.041785</td>\n",
       "      <td>81.779493</td>\n",
       "    </tr>\n",
       "  </tbody>\n",
       "</table>\n",
       "<p>870 rows × 5 columns</p>\n",
       "</div>"
      ],
      "text/plain": [
       "maturity            1          2          3          4          5\n",
       "date                                                             \n",
       "1952-06-30  98.177763  96.253133  94.246713  92.634134  90.418295\n",
       "1952-07-31  98.094756  96.031453  93.931226  92.308865  89.851576\n",
       "1952-08-29  98.057808  95.974988  93.781939  92.145776  89.571687\n",
       "1952-09-30  98.031188  95.909789  93.755108  92.096104  89.167641\n",
       "1952-10-31  98.110769  95.974490  93.758273  91.929019  89.724841\n",
       "...               ...        ...        ...        ...        ...\n",
       "2024-07-31  95.442882  91.930210  88.676493  85.502712  82.412153\n",
       "2024-08-30  95.761807  92.544654  89.401025  86.226586  83.196425\n",
       "2024-09-30  96.148197  93.062254  89.977548  86.813966  83.795135\n",
       "2024-10-31  95.866672  92.123287  88.488966  84.814957  81.400575\n",
       "2024-11-29  95.918694  92.092297  88.543997  85.041785  81.779493\n",
       "\n",
       "[870 rows x 5 columns]"
      ]
     },
     "execution_count": 4,
     "metadata": {},
     "output_type": "execute_result"
    }
   ],
   "source": [
    "db.describe_table(library='crsp_m_treasuries', table='tfz_mth_fb')\n",
    "\n",
    "SQL_QUERY = f'select * from crsp_m_treasuries.tfz_mth_fb'\n",
    "fb_raw = db.raw_sql(SQL_QUERY)\n",
    "fb = fb_raw.rename(columns={'mcaldt':'date','tmnomprc':'price','tmytm':'yld'})\n",
    "fb = fb.pivot_table(values='price',index='date',columns='kytreasnox')\n",
    "fb.rename(columns={2000047:1, 2000048:2, 2000049:3, 2000050:4, 2000051:5},inplace=True)\n",
    "fb.columns.name = 'maturity'\n",
    "fb"
   ]
  },
  {
   "cell_type": "markdown",
   "metadata": {},
   "source": [
    "# Save to Excel"
   ]
  },
  {
   "cell_type": "code",
   "execution_count": 5,
   "metadata": {},
   "outputs": [],
   "source": [
    "DATE = fb.index[-1]\n",
    "outfile = f'../data/famabliss_strips_{DATE}.xlsx'\n",
    "with pd.ExcelWriter(outfile) as writer:\n",
    "    fb.to_excel(writer, sheet_name= 'prices', index=True)"
   ]
  },
  {
   "cell_type": "markdown",
   "metadata": {},
   "source": [
    "***"
   ]
  }
 ],
 "metadata": {
  "hide_input": false,
  "kernelspec": {
   "display_name": "Python 3 (ipykernel)",
   "language": "python",
   "name": "python3"
  },
  "language_info": {
   "codemirror_mode": {
    "name": "ipython",
    "version": 3
   },
   "file_extension": ".py",
   "mimetype": "text/x-python",
   "name": "python",
   "nbconvert_exporter": "python",
   "pygments_lexer": "ipython3",
   "version": "3.9.6"
  },
  "toc": {
   "base_numbering": 1,
   "nav_menu": {},
   "number_sections": false,
   "sideBar": true,
   "skip_h1_title": false,
   "title_cell": "Table of Contents",
   "title_sidebar": "Contents",
   "toc_cell": false,
   "toc_position": {},
   "toc_section_display": true,
   "toc_window_display": false
  }
 },
 "nbformat": 4,
 "nbformat_minor": 4
}
