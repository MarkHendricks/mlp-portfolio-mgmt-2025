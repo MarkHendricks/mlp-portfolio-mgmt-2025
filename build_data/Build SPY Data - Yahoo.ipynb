{
 "cells": [
  {
   "cell_type": "code",
   "execution_count": 1,
   "metadata": {},
   "outputs": [
    {
     "name": "stderr",
     "output_type": "stream",
     "text": [
      "/Users/markhendricks/Projects/mlp-portfolio-mgmt-2025/venv/lib/python3.9/site-packages/urllib3/__init__.py:35: NotOpenSSLWarning: urllib3 v2 only supports OpenSSL 1.1.1+, currently the 'ssl' module is compiled with 'LibreSSL 2.8.3'. See: https://github.com/urllib3/urllib3/issues/3020\n",
      "  warnings.warn(\n"
     ]
    }
   ],
   "source": [
    "import pandas as pd\n",
    "import numpy as np\n",
    "\n",
    "import yfinance as yf"
   ]
  },
  {
   "cell_type": "code",
   "execution_count": 2,
   "metadata": {},
   "outputs": [],
   "source": [
    "STARTDATE = \"1994-01-01\"\n",
    "ENDDATE = \"2024-12-31\"\n",
    "\n",
    "FILEOUT = '../data/spy_data_2025.xlsx'"
   ]
  },
  {
   "cell_type": "code",
   "execution_count": 3,
   "metadata": {},
   "outputs": [],
   "source": [
    "TICKS = [\n",
    "    'SPY',\n",
    "    '^IRX'\n",
    "]\n",
    "\n",
    "FLDS = ['quoteType','shortName','volume','totalAssets','trailingAnnualDividendYield','longBusinessSummary']"
   ]
  },
  {
   "cell_type": "code",
   "execution_count": 4,
   "metadata": {},
   "outputs": [],
   "source": [
    "info = pd.DataFrame(index=TICKS,columns=FLDS)\n",
    "info.index.name = 'ticker'\n",
    "for tick in info.index:\n",
    "    temp = yf.Ticker(tick).get_info()\n",
    "\n",
    "    for fld in FLDS:\n",
    "        if fld in temp.keys():\n",
    "            info.loc[tick,fld] = temp[fld]            "
   ]
  },
  {
   "cell_type": "code",
   "execution_count": 5,
   "metadata": {},
   "outputs": [
    {
     "name": "stderr",
     "output_type": "stream",
     "text": [
      "[*********************100%***********************]  2 of 2 completed\n"
     ]
    }
   ],
   "source": [
    "prices = yf.download(TICKS, start=STARTDATE, end=ENDDATE, auto_adjust=False)['Adj Close'][info.index]\n",
    "\n",
    "prices.index.name = 'date'\n",
    "\n",
    "KEYS_LEVELS = ['^IRX']\n",
    "\n",
    "prices.dropna(inplace=True)\n",
    "rets = prices.pct_change().dropna()\n",
    "rets[KEYS_LEVELS] = prices[KEYS_LEVELS]/100/252"
   ]
  },
  {
   "cell_type": "code",
   "execution_count": 6,
   "metadata": {},
   "outputs": [
    {
     "data": {
      "text/html": [
       "<div>\n",
       "<style scoped>\n",
       "    .dataframe tbody tr th:only-of-type {\n",
       "        vertical-align: middle;\n",
       "    }\n",
       "\n",
       "    .dataframe tbody tr th {\n",
       "        vertical-align: top;\n",
       "    }\n",
       "\n",
       "    .dataframe thead th {\n",
       "        text-align: right;\n",
       "    }\n",
       "</style>\n",
       "<table border=\"1\" class=\"dataframe\">\n",
       "  <thead>\n",
       "    <tr style=\"text-align: right;\">\n",
       "      <th></th>\n",
       "      <th>quoteType</th>\n",
       "      <th>shortName</th>\n",
       "      <th>volume</th>\n",
       "      <th>totalAssets</th>\n",
       "      <th>trailingAnnualDividendYield</th>\n",
       "      <th>longBusinessSummary</th>\n",
       "    </tr>\n",
       "    <tr>\n",
       "      <th>ticker</th>\n",
       "      <th></th>\n",
       "      <th></th>\n",
       "      <th></th>\n",
       "      <th></th>\n",
       "      <th></th>\n",
       "      <th></th>\n",
       "    </tr>\n",
       "  </thead>\n",
       "  <tbody>\n",
       "    <tr>\n",
       "      <th>SPY</th>\n",
       "      <td>ETF</td>\n",
       "      <td>SPDR S&amp;P 500</td>\n",
       "      <td>26000886</td>\n",
       "      <td>627773800448</td>\n",
       "      <td>0.009565</td>\n",
       "      <td>The Trust seeks to achieve its investment obje...</td>\n",
       "    </tr>\n",
       "    <tr>\n",
       "      <th>^IRX</th>\n",
       "      <td>INDEX</td>\n",
       "      <td>13 WEEK TREASURY BILL</td>\n",
       "      <td>NaN</td>\n",
       "      <td>NaN</td>\n",
       "      <td>NaN</td>\n",
       "      <td>NaN</td>\n",
       "    </tr>\n",
       "  </tbody>\n",
       "</table>\n",
       "</div>"
      ],
      "text/plain": [
       "       quoteType              shortName    volume   totalAssets  \\\n",
       "ticker                                                            \n",
       "SPY          ETF           SPDR S&P 500  26000886  627773800448   \n",
       "^IRX       INDEX  13 WEEK TREASURY BILL       NaN           NaN   \n",
       "\n",
       "       trailingAnnualDividendYield  \\\n",
       "ticker                               \n",
       "SPY                       0.009565   \n",
       "^IRX                           NaN   \n",
       "\n",
       "                                      longBusinessSummary  \n",
       "ticker                                                     \n",
       "SPY     The Trust seeks to achieve its investment obje...  \n",
       "^IRX                                                  NaN  "
      ]
     },
     "execution_count": 6,
     "metadata": {},
     "output_type": "execute_result"
    }
   ],
   "source": [
    "info"
   ]
  },
  {
   "cell_type": "code",
   "execution_count": 7,
   "metadata": {
    "scrolled": true
   },
   "outputs": [
    {
     "data": {
      "text/html": [
       "<div>\n",
       "<style scoped>\n",
       "    .dataframe tbody tr th:only-of-type {\n",
       "        vertical-align: middle;\n",
       "    }\n",
       "\n",
       "    .dataframe tbody tr th {\n",
       "        vertical-align: top;\n",
       "    }\n",
       "\n",
       "    .dataframe thead th {\n",
       "        text-align: right;\n",
       "    }\n",
       "</style>\n",
       "<table border=\"1\" class=\"dataframe\">\n",
       "  <thead>\n",
       "    <tr style=\"text-align: right;\">\n",
       "      <th>Ticker</th>\n",
       "      <th>SPY</th>\n",
       "      <th>^IRX</th>\n",
       "    </tr>\n",
       "    <tr>\n",
       "      <th>date</th>\n",
       "      <th></th>\n",
       "      <th></th>\n",
       "    </tr>\n",
       "  </thead>\n",
       "  <tbody>\n",
       "    <tr>\n",
       "      <th>1994-01-04</th>\n",
       "      <td>0.004035</td>\n",
       "      <td>0.000122</td>\n",
       "    </tr>\n",
       "    <tr>\n",
       "      <th>1994-01-05</th>\n",
       "      <td>0.002010</td>\n",
       "      <td>0.000122</td>\n",
       "    </tr>\n",
       "    <tr>\n",
       "      <th>1994-01-06</th>\n",
       "      <td>0.000000</td>\n",
       "      <td>0.000121</td>\n",
       "    </tr>\n",
       "    <tr>\n",
       "      <th>1994-01-07</th>\n",
       "      <td>0.006016</td>\n",
       "      <td>0.000119</td>\n",
       "    </tr>\n",
       "    <tr>\n",
       "      <th>1994-01-10</th>\n",
       "      <td>0.011959</td>\n",
       "      <td>0.000119</td>\n",
       "    </tr>\n",
       "    <tr>\n",
       "      <th>...</th>\n",
       "      <td>...</td>\n",
       "      <td>...</td>\n",
       "    </tr>\n",
       "    <tr>\n",
       "      <th>2024-12-23</th>\n",
       "      <td>0.005988</td>\n",
       "      <td>0.000167</td>\n",
       "    </tr>\n",
       "    <tr>\n",
       "      <th>2024-12-24</th>\n",
       "      <td>0.011115</td>\n",
       "      <td>0.000167</td>\n",
       "    </tr>\n",
       "    <tr>\n",
       "      <th>2024-12-26</th>\n",
       "      <td>0.000067</td>\n",
       "      <td>0.000167</td>\n",
       "    </tr>\n",
       "    <tr>\n",
       "      <th>2024-12-27</th>\n",
       "      <td>-0.010527</td>\n",
       "      <td>0.000166</td>\n",
       "    </tr>\n",
       "    <tr>\n",
       "      <th>2024-12-30</th>\n",
       "      <td>-0.011412</td>\n",
       "      <td>0.000166</td>\n",
       "    </tr>\n",
       "  </tbody>\n",
       "</table>\n",
       "<p>7783 rows × 2 columns</p>\n",
       "</div>"
      ],
      "text/plain": [
       "Ticker           SPY      ^IRX\n",
       "date                          \n",
       "1994-01-04  0.004035  0.000122\n",
       "1994-01-05  0.002010  0.000122\n",
       "1994-01-06  0.000000  0.000121\n",
       "1994-01-07  0.006016  0.000119\n",
       "1994-01-10  0.011959  0.000119\n",
       "...              ...       ...\n",
       "2024-12-23  0.005988  0.000167\n",
       "2024-12-24  0.011115  0.000167\n",
       "2024-12-26  0.000067  0.000167\n",
       "2024-12-27 -0.010527  0.000166\n",
       "2024-12-30 -0.011412  0.000166\n",
       "\n",
       "[7783 rows x 2 columns]"
      ]
     },
     "execution_count": 7,
     "metadata": {},
     "output_type": "execute_result"
    }
   ],
   "source": [
    "rets"
   ]
  },
  {
   "cell_type": "code",
   "execution_count": 8,
   "metadata": {},
   "outputs": [],
   "source": [
    "with pd.ExcelWriter(FILEOUT) as writer:  \n",
    "    info.to_excel(writer, sheet_name= 'descriptions')\n",
    "    rets.to_excel(writer, sheet_name='total returns')\n",
    "    prices.to_excel(writer, sheet_name='prices')"
   ]
  },
  {
   "cell_type": "code",
   "execution_count": 9,
   "metadata": {},
   "outputs": [
    {
     "data": {
      "text/html": [
       "<div>\n",
       "<style scoped>\n",
       "    .dataframe tbody tr th:only-of-type {\n",
       "        vertical-align: middle;\n",
       "    }\n",
       "\n",
       "    .dataframe tbody tr th {\n",
       "        vertical-align: top;\n",
       "    }\n",
       "\n",
       "    .dataframe thead th {\n",
       "        text-align: right;\n",
       "    }\n",
       "</style>\n",
       "<table border=\"1\" class=\"dataframe\">\n",
       "  <thead>\n",
       "    <tr style=\"text-align: right;\">\n",
       "      <th></th>\n",
       "      <th>quoteType</th>\n",
       "      <th>shortName</th>\n",
       "      <th>volume</th>\n",
       "      <th>totalAssets</th>\n",
       "      <th>trailingAnnualDividendYield</th>\n",
       "      <th>longBusinessSummary</th>\n",
       "    </tr>\n",
       "    <tr>\n",
       "      <th>ticker</th>\n",
       "      <th></th>\n",
       "      <th></th>\n",
       "      <th></th>\n",
       "      <th></th>\n",
       "      <th></th>\n",
       "      <th></th>\n",
       "    </tr>\n",
       "  </thead>\n",
       "  <tbody>\n",
       "    <tr>\n",
       "      <th>SPY</th>\n",
       "      <td>ETF</td>\n",
       "      <td>SPDR S&amp;P 500</td>\n",
       "      <td>26000886</td>\n",
       "      <td>627773800448</td>\n",
       "      <td>0.009565</td>\n",
       "      <td>The Trust seeks to achieve its investment obje...</td>\n",
       "    </tr>\n",
       "    <tr>\n",
       "      <th>^IRX</th>\n",
       "      <td>INDEX</td>\n",
       "      <td>13 WEEK TREASURY BILL</td>\n",
       "      <td>NaN</td>\n",
       "      <td>NaN</td>\n",
       "      <td>NaN</td>\n",
       "      <td>NaN</td>\n",
       "    </tr>\n",
       "  </tbody>\n",
       "</table>\n",
       "</div>"
      ],
      "text/plain": [
       "       quoteType              shortName    volume   totalAssets  \\\n",
       "ticker                                                            \n",
       "SPY          ETF           SPDR S&P 500  26000886  627773800448   \n",
       "^IRX       INDEX  13 WEEK TREASURY BILL       NaN           NaN   \n",
       "\n",
       "       trailingAnnualDividendYield  \\\n",
       "ticker                               \n",
       "SPY                       0.009565   \n",
       "^IRX                           NaN   \n",
       "\n",
       "                                      longBusinessSummary  \n",
       "ticker                                                     \n",
       "SPY     The Trust seeks to achieve its investment obje...  \n",
       "^IRX                                                  NaN  "
      ]
     },
     "execution_count": 9,
     "metadata": {},
     "output_type": "execute_result"
    }
   ],
   "source": [
    "info"
   ]
  }
 ],
 "metadata": {
  "hide_input": false,
  "kernelspec": {
   "display_name": "Python 3 (ipykernel)",
   "language": "python",
   "name": "python3"
  },
  "language_info": {
   "codemirror_mode": {
    "name": "ipython",
    "version": 3
   },
   "file_extension": ".py",
   "mimetype": "text/x-python",
   "name": "python",
   "nbconvert_exporter": "python",
   "pygments_lexer": "ipython3",
   "version": "3.9.6"
  }
 },
 "nbformat": 4,
 "nbformat_minor": 4
}
