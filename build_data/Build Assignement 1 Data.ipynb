{
 "cells": [
  {
   "cell_type": "code",
   "execution_count": 10,
   "id": "75865fb3",
   "metadata": {},
   "outputs": [],
   "source": [
    "import pandas as pd\n",
    "import numpy as np\n",
    "import matplotlib.pyplot as plt\n",
    "import seaborn as sns"
   ]
  },
  {
   "cell_type": "code",
   "execution_count": 11,
   "id": "32ac4769",
   "metadata": {},
   "outputs": [],
   "source": [
    "rets = pd.read_excel('../data/spx_returns_weekly.xlsx',sheet_name='s&p500 rets').set_index('date')\n",
    "\n",
    "ticks = ['AAPL','MSFT','AMZN','NVDA','GOOGL','TSLA','XOM']"
   ]
  },
  {
   "cell_type": "code",
   "execution_count": 12,
   "id": "16df008a",
   "metadata": {},
   "outputs": [],
   "source": [
    "facs = pd.read_excel('../data/spx_returns_weekly.xlsx',sheet_name='benchmark rets').set_index('date')\n",
    "ticksF = ['SPY','IEF']\n",
    "f = facs[ticksF]"
   ]
  },
  {
   "cell_type": "code",
   "execution_count": 13,
   "id": "bfb97ff0",
   "metadata": {},
   "outputs": [],
   "source": [
    "retsx = rets[ticks].sub(f['IEF'],axis=0)\n",
    "spyx = f[['SPY']].sub(f['IEF'],axis=0)"
   ]
  },
  {
   "cell_type": "code",
   "execution_count": 14,
   "id": "f77708f3",
   "metadata": {},
   "outputs": [
    {
     "data": {
      "text/html": [
       "<div>\n",
       "<style scoped>\n",
       "    .dataframe tbody tr th:only-of-type {\n",
       "        vertical-align: middle;\n",
       "    }\n",
       "\n",
       "    .dataframe tbody tr th {\n",
       "        vertical-align: top;\n",
       "    }\n",
       "\n",
       "    .dataframe thead th {\n",
       "        text-align: right;\n",
       "    }\n",
       "</style>\n",
       "<table border=\"1\" class=\"dataframe\">\n",
       "  <thead>\n",
       "    <tr style=\"text-align: right;\">\n",
       "      <th></th>\n",
       "      <th>name</th>\n",
       "      <th>mkt cap</th>\n",
       "    </tr>\n",
       "    <tr>\n",
       "      <th>ticker</th>\n",
       "      <th></th>\n",
       "      <th></th>\n",
       "    </tr>\n",
       "  </thead>\n",
       "  <tbody>\n",
       "    <tr>\n",
       "      <th>A</th>\n",
       "      <td>Agilent Technologies Inc</td>\n",
       "      <td>3.811856e+10</td>\n",
       "    </tr>\n",
       "    <tr>\n",
       "      <th>AAL</th>\n",
       "      <td>American Airlines Group Inc</td>\n",
       "      <td>6.849105e+09</td>\n",
       "    </tr>\n",
       "    <tr>\n",
       "      <th>AAPL</th>\n",
       "      <td>Apple Inc</td>\n",
       "      <td>3.450322e+12</td>\n",
       "    </tr>\n",
       "    <tr>\n",
       "      <th>ABBV</th>\n",
       "      <td>AbbVie Inc</td>\n",
       "      <td>3.057600e+11</td>\n",
       "    </tr>\n",
       "    <tr>\n",
       "      <th>ABNB</th>\n",
       "      <td>Airbnb Inc</td>\n",
       "      <td>9.580152e+10</td>\n",
       "    </tr>\n",
       "    <tr>\n",
       "      <th>...</th>\n",
       "      <td>...</td>\n",
       "      <td>...</td>\n",
       "    </tr>\n",
       "    <tr>\n",
       "      <th>XYL</th>\n",
       "      <td>Xylem Inc/NY</td>\n",
       "      <td>3.411718e+10</td>\n",
       "    </tr>\n",
       "    <tr>\n",
       "      <th>YUM</th>\n",
       "      <td>Yum! Brands Inc</td>\n",
       "      <td>3.561521e+10</td>\n",
       "    </tr>\n",
       "    <tr>\n",
       "      <th>ZBH</th>\n",
       "      <td>Zimmer Biomet Holdings Inc</td>\n",
       "      <td>2.263012e+10</td>\n",
       "    </tr>\n",
       "    <tr>\n",
       "      <th>ZBRA</th>\n",
       "      <td>Zebra Technologies Corp</td>\n",
       "      <td>1.703011e+10</td>\n",
       "    </tr>\n",
       "    <tr>\n",
       "      <th>ZTS</th>\n",
       "      <td>Zoetis Inc</td>\n",
       "      <td>8.185022e+10</td>\n",
       "    </tr>\n",
       "  </tbody>\n",
       "</table>\n",
       "<p>503 rows × 2 columns</p>\n",
       "</div>"
      ],
      "text/plain": [
       "                               name       mkt cap\n",
       "ticker                                           \n",
       "A          Agilent Technologies Inc  3.811856e+10\n",
       "AAL     American Airlines Group Inc  6.849105e+09\n",
       "AAPL                      Apple Inc  3.450322e+12\n",
       "ABBV                     AbbVie Inc  3.057600e+11\n",
       "ABNB                     Airbnb Inc  9.580152e+10\n",
       "...                             ...           ...\n",
       "XYL                    Xylem Inc/NY  3.411718e+10\n",
       "YUM                 Yum! Brands Inc  3.561521e+10\n",
       "ZBH      Zimmer Biomet Holdings Inc  2.263012e+10\n",
       "ZBRA        Zebra Technologies Corp  1.703011e+10\n",
       "ZTS                      Zoetis Inc  8.185022e+10\n",
       "\n",
       "[503 rows x 2 columns]"
      ]
     },
     "execution_count": 14,
     "metadata": {},
     "output_type": "execute_result"
    }
   ],
   "source": [
    "info"
   ]
  },
  {
   "cell_type": "code",
   "execution_count": 15,
   "id": "eaf9effa",
   "metadata": {},
   "outputs": [],
   "source": [
    "info = pd.read_excel('../data/spx_returns_weekly.xlsx',sheet_name='s&p500 names').set_index('ticker')\n",
    "i = info.loc[ticks,['name']]"
   ]
  },
  {
   "cell_type": "code",
   "execution_count": 16,
   "id": "be53f51b",
   "metadata": {},
   "outputs": [],
   "source": [
    "file_out = '../data/assignment_1_data.xlsx'\n",
    "\n",
    "with pd.ExcelWriter(file_out) as writer:  \n",
    "    i.to_excel(writer, sheet_name= 'info')\n",
    "    retsx.to_excel(writer, sheet_name='excess returns')\n",
    "    spyx.to_excel(writer, sheet_name='spy')"
   ]
  }
 ],
 "metadata": {
  "hide_input": false,
  "kernelspec": {
   "display_name": "Python 3 (ipykernel)",
   "language": "python",
   "name": "python3"
  },
  "language_info": {
   "codemirror_mode": {
    "name": "ipython",
    "version": 3
   },
   "file_extension": ".py",
   "mimetype": "text/x-python",
   "name": "python",
   "nbconvert_exporter": "python",
   "pygments_lexer": "ipython3",
   "version": "3.9.6"
  }
 },
 "nbformat": 4,
 "nbformat_minor": 5
}
